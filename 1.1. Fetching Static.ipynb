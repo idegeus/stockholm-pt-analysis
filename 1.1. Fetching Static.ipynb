{
 "cells": [
  {
   "cell_type": "code",
   "execution_count": null,
   "id": "48234161",
   "metadata": {},
   "outputs": [],
   "source": [
    "!pip install tqdm --quiet"
   ]
  },
  {
   "cell_type": "code",
   "execution_count": 1,
   "id": "49987ee4",
   "metadata": {
    "ExecuteTime": {
     "end_time": "2022-05-16T08:23:55.737330Z",
     "start_time": "2022-05-16T08:23:55.604272Z"
    }
   },
   "outputs": [
    {
     "name": "stdout",
     "output_type": "stream",
     "text": [
      "122\n"
     ]
    },
    {
     "data": {
      "text/plain": [
       "['2021-12-22',\n",
       " '2021-12-23',\n",
       " '2021-12-24',\n",
       " '2021-12-25',\n",
       " '2021-12-26',\n",
       " '2021-12-27',\n",
       " '2021-12-28',\n",
       " '2021-12-29',\n",
       " '2021-12-30',\n",
       " '2021-12-31']"
      ]
     },
     "execution_count": 1,
     "metadata": {},
     "output_type": "execute_result"
    }
   ],
   "source": [
    "import requests\n",
    "from tqdm.notebook import tqdm\n",
    "import os.path\n",
    "from calendar import monthrange\n",
    "import time\n",
    "\n",
    "API_KEY = \"FpIG19BfekWUFWGPhb5Nl_zIMPA7Z7gI7ZQ1DESEGkk\"\n",
    "# API_KEY = \"zw_mUBWe3F72OcpgY1j2FjnVQMULgW52uOJzvvdxT6A\"\n",
    "\n",
    "# Note the months to fetch and generate dates\n",
    "months = [6, 10, 11, 12]\n",
    "dates = [f\"\"\"2021-{month:02}-{(day+1):02}\"\"\" for month in months for day in range(monthrange(2022, month)[1])]\n",
    "\n",
    "# Show last 10 days to fetch\n",
    "print(len(dates))\n",
    "dates[-10:]"
   ]
  },
  {
   "cell_type": "code",
   "execution_count": 2,
   "id": "93133d90",
   "metadata": {
    "ExecuteTime": {
     "end_time": "2022-05-16T08:25:43.237414Z",
     "start_time": "2022-05-16T08:23:55.962181Z"
    },
    "scrolled": false
   },
   "outputs": [
    {
     "data": {
      "application/vnd.jupyter.widget-view+json": {
       "model_id": "9fdb6a91316c4126894a8fc25e9959a3",
       "version_major": 2,
       "version_minor": 0
      },
      "text/plain": [
       "  0%|          | 0/122 [00:00<?, ?it/s]"
      ]
     },
     "metadata": {},
     "output_type": "display_data"
    },
    {
     "name": "stdout",
     "output_type": "stream",
     "text": [
      "2021-06-01 exists.\n",
      "2021-06-02 exists.\n",
      "2021-06-03 exists.\n",
      "2021-06-04 exists.\n",
      "2021-06-05 exists.\n",
      "2021-06-06 exists.\n",
      "2021-06-07 exists.\n",
      "2021-06-08 exists.\n",
      "2021-06-09 exists.\n",
      "2021-06-10 exists.\n",
      "2021-06-12 exists.\n",
      "2021-06-13 exists.\n",
      "2021-06-14 exists.\n",
      "2021-06-15 exists.\n",
      "2021-06-16 exists.\n",
      "2021-06-17 exists.\n",
      "2021-06-18 exists.\n",
      "2021-06-19 exists.\n",
      "2021-06-20 exists.\n",
      "2021-06-21 exists.\n",
      "2021-06-22 exists.\n",
      "2021-06-23 exists.\n",
      "2021-06-24 exists.\n",
      "2021-06-25 exists.\n",
      "2021-06-26 exists.\n",
      "2021-06-28 exists.\n",
      "2021-06-29 exists.\n",
      "2021-06-30 exists.\n",
      "2021-10-01 exists.\n",
      "2021-10-02 exists.\n",
      "2021-10-03 exists.\n",
      "2021-10-04 exists.\n",
      "2021-10-05 exists.\n",
      "2021-10-06 exists.\n",
      "2021-10-07 exists.\n",
      "2021-10-08 exists.\n",
      "2021-10-09 exists.\n",
      "2021-10-10 exists.\n",
      "2021-10-11 exists.\n",
      "2021-10-12 exists.\n",
      "2021-10-14 exists.\n",
      "2021-10-15 exists.\n",
      "2021-10-16 exists.\n",
      "2021-10-17 exists.\n",
      "2021-10-18 exists.\n",
      "2021-10-19 exists.\n",
      "2021-10-20 exists.\n",
      "2021-10-21 exists.\n",
      "2021-10-22 exists.\n",
      "2021-10-24 exists.\n",
      "2021-10-25 exists.\n",
      "2021-10-26 exists.\n",
      "2021-11-01 exists.\n",
      "2021-11-02 exists.\n",
      "2021-11-03 exists.\n",
      "2021-11-04 exists.\n",
      "2021-11-05 exists.\n",
      "2021-11-06 exists.\n",
      "2021-11-07 exists.\n",
      "2021-11-08 exists.\n",
      "2021-11-09 exists.\n",
      "2021-11-10 exists.\n",
      "2021-11-11 exists.\n",
      "2021-11-12 exists.\n",
      "2021-11-13 exists.\n",
      "2021-11-14 exists.\n",
      "2021-11-15 exists.\n",
      "2021-11-16 exists.\n",
      "2021-11-17 exists.\n",
      "2021-11-18 exists.\n",
      "2021-11-19 exists.\n",
      "2021-11-20 exists.\n",
      "2021-11-21 exists.\n",
      "2021-11-22 exists.\n",
      "2021-11-23 exists.\n",
      "2021-11-24 exists.\n",
      "2021-11-25 exists.\n",
      "2021-11-26 exists.\n",
      "2021-11-27 exists.\n",
      "2021-11-28 exists.\n",
      "2021-11-29 exists.\n",
      "2021-11-30 exists.\n",
      "2021-12-01 exists.\n",
      "2021-12-02 exists.\n",
      "2021-12-03 exists.\n",
      "2021-12-04 exists.\n",
      "2021-12-05 exists.\n",
      "2021-12-06 exists.\n",
      "2021-12-07 exists.\n",
      "2021-12-08 exists.\n",
      "2021-12-09 exists.\n",
      "2021-12-10 exists.\n",
      "2021-12-11 exists.\n",
      "2021-12-12 exists.\n",
      "2021-12-13 exists.\n",
      "2021-12-14 exists.\n",
      "2021-12-15 exists.\n",
      "2021-12-16 exists.\n",
      "2021-12-17 exists.\n",
      "2021-12-18 exists.\n",
      "2021-12-19 exists.\n",
      "2021-12-20 exists.\n",
      "2021-12-21 exists.\n",
      "2021-12-22 exists.\n",
      "2021-12-23 exists.\n",
      "2021-12-24 exists.\n",
      "2021-12-25 exists.\n",
      "2021-12-26 exists.\n",
      "2021-12-27 exists.\n",
      "2021-12-28 exists.\n",
      "2021-12-29 exists.\n",
      "2021-12-30 exists.\n",
      "2021-12-31 exists.\n"
     ]
    }
   ],
   "source": [
    "# Downloading static daily historical data.\n",
    "headers = {'accept': 'application/octet-stream'}\n",
    "\n",
    "# Loop over all days from 1 to 26 (last one is not included)\n",
    "for date in tqdm(dates):\n",
    "\n",
    "    # Create parameter dictionary including key for this iteration\n",
    "    params = {\n",
    "        'date': date,\n",
    "        'key': API_KEY,\n",
    "    }\n",
    "\n",
    "    # Construct filename and output path.\n",
    "    # If file is already downloaded, we skip this iteration.\n",
    "    file_path = f\"\"\"./data/0-koda-gtfs-static/{params['date']}.zip\"\"\"\n",
    "    if os.path.exists(file_path):\n",
    "        print(date + \" exists.\")\n",
    "        continue;\n",
    "\n",
    "    # Fetch actual response\n",
    "    response = requests.get('https://api.koda.trafiklab.se/KoDa/api/v2/gtfs-static/sl', \n",
    "                            params=params, headers=headers)\n",
    "\n",
    "    # If status code is 200 (HTTP OK), save file. \n",
    "    if str(response.status_code) == \"200\":\n",
    "        with open(file_path, 'wb') as file:\n",
    "            file.write(response.content)"
   ]
  },
  {
   "cell_type": "code",
   "execution_count": null,
   "id": "b9cb473d",
   "metadata": {},
   "outputs": [],
   "source": []
  }
 ],
 "metadata": {
  "kernelspec": {
   "display_name": "Python 3",
   "language": "python",
   "name": "python3"
  },
  "language_info": {
   "codemirror_mode": {
    "name": "ipython",
    "version": 3
   },
   "file_extension": ".py",
   "mimetype": "text/x-python",
   "name": "python",
   "nbconvert_exporter": "python",
   "pygments_lexer": "ipython3",
   "version": "3.8.8"
  }
 },
 "nbformat": 4,
 "nbformat_minor": 5
}
