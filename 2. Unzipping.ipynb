{
 "cells": [
  {
   "cell_type": "code",
   "execution_count": 15,
   "id": "8274c416",
   "metadata": {},
   "outputs": [],
   "source": [
    "# Required tool for unzipping all the files\n",
    "!pip install py7zr --quiet"
   ]
  },
  {
   "cell_type": "code",
   "execution_count": 7,
   "id": "cc2a40d0",
   "metadata": {},
   "outputs": [],
   "source": [
    "import py7zr\n",
    "from glob import glob\n",
    "from tqdm.notebook import tqdm\n",
    "import os"
   ]
  },
  {
   "cell_type": "code",
   "execution_count": 19,
   "id": "a0f09df0",
   "metadata": {
    "scrolled": false
   },
   "outputs": [
    {
     "data": {
      "application/vnd.jupyter.widget-view+json": {
       "model_id": "ce2bc49a365a46678073592a7a465019",
       "version_major": 2,
       "version_minor": 0
      },
      "text/plain": [
       "  0%|          | 0/35 [00:00<?, ?it/s]"
      ]
     },
     "metadata": {},
     "output_type": "display_data"
    },
    {
     "name": "stdout",
     "output_type": "stream",
     "text": [
      "2021-12-01 exists\n",
      "2021-10-01 exists\n",
      "2021-11-01 exists\n",
      "2021-11-11 exists\n",
      "2021-11-25 exists\n",
      "2021-11-05 exists\n",
      "2021-11-21 exists\n",
      "2021-11-15 exists\n",
      "2021-11-04 exists\n",
      "2021-11-30 exists\n",
      "2021-11-20 exists\n",
      "2021-11-14 exists\n",
      "2021-11-10 exists\n",
      "2021-11-24 exists\n",
      "2021-11-07 exists\n",
      "2021-11-23 exists\n",
      "2021-11-17 exists\n",
      "2021-11-03 exists\n",
      "2021-11-13 exists\n",
      "2021-11-27 exists\n",
      "2021-11-02 exists\n",
      "2021-11-12 exists\n",
      "2021-11-26 exists\n",
      "2021-11-06 exists\n",
      "2021-11-22 exists\n",
      "2021-11-16 exists\n",
      "2021-10-03 exists\n",
      "2021-11-29 exists\n",
      "2021-11-09 exists\n"
     ]
    }
   ],
   "source": [
    "# Loop over all the files found in the source folder\n",
    "for file in tqdm(glob('./data/0-koda-gtfs-rt/tu/*.7z')):\n",
    "    \n",
    "    # Split file path into file name without extension\n",
    "    file_name = file.split('/').pop()[:-3]\n",
    "    \n",
    "    # Construct output folder path\n",
    "    folder_output = f\"\"\"./data/1-koda-gtfs-rt-extracted\"\"\" #/{file_name}/\"\"\"\n",
    "    \n",
    "    if os.path.exists(folder_output + '/sl/TripUpdates/'+file_name[:4]+'/'+file_name[5:7]+'/'+file_name[8:10]):\n",
    "        print(file_name + \" exists\")\n",
    "        continue;\n",
    "    \n",
    "    # Unzip the file into the created folder\n",
    "    with py7zr.SevenZipFile(file, mode='r') as zipfile:\n",
    "        zipfile.extractall(folder_output, )"
   ]
  },
  {
   "cell_type": "code",
   "execution_count": null,
   "id": "815e5b3b",
   "metadata": {},
   "outputs": [
    {
     "data": {
      "application/vnd.jupyter.widget-view+json": {
       "model_id": "a5739d329f2b423ab2c4feb3bd9131af",
       "version_major": 2,
       "version_minor": 0
      },
      "text/plain": [
       "  0%|          | 0/34 [00:00<?, ?it/s]"
      ]
     },
     "metadata": {},
     "output_type": "display_data"
    },
    {
     "name": "stdout",
     "output_type": "stream",
     "text": [
      "2021-12-01 exists\n"
     ]
    }
   ],
   "source": [
    "# Loop over all the files found in the source folder\n",
    "for file in tqdm(glob('./data/0-koda-gtfs-rt/vp/*.7z')):\n",
    "    \n",
    "    # Split file path into file name without extension\n",
    "    file_name = file.split('/').pop()[:-3]\n",
    "    \n",
    "    # Construct output folder path\n",
    "    folder_output = f\"\"\"./data/1-koda-gtfs-rt-extracted\"\"\" #/{file_name}/\"\"\"\n",
    "    \n",
    "    if os.path.exists(folder_output + '/sl/VehiclePositions/'+file_name[:4]+'/'+file_name[5:7]+'/'+file_name[8:10]):\n",
    "        print(file_name + \" exists\")\n",
    "        continue;\n",
    "    \n",
    "    # Unzip the file into the created folder\n",
    "    with py7zr.SevenZipFile(file, mode='r') as zipfile:\n",
    "        zipfile.extractall(folder_output, )"
   ]
  },
  {
   "cell_type": "code",
   "execution_count": null,
   "id": "66db3aa6",
   "metadata": {},
   "outputs": [],
   "source": []
  }
 ],
 "metadata": {
  "kernelspec": {
   "display_name": "Python 3",
   "language": "python",
   "name": "python3"
  },
  "language_info": {
   "codemirror_mode": {
    "name": "ipython",
    "version": 3
   },
   "file_extension": ".py",
   "mimetype": "text/x-python",
   "name": "python",
   "nbconvert_exporter": "python",
   "pygments_lexer": "ipython3",
   "version": "3.8.8"
  }
 },
 "nbformat": 4,
 "nbformat_minor": 5
}
