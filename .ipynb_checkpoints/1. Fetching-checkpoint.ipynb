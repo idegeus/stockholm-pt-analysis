{
 "cells": [
  {
   "cell_type": "code",
   "execution_count": 12,
   "id": "48234161",
   "metadata": {},
   "outputs": [
    {
     "name": "stdout",
     "output_type": "stream",
     "text": [
      "Requirement already satisfied: tqdm in /Users/ivo/opt/anaconda3/lib/python3.8/site-packages (4.59.0)\r\n"
     ]
    }
   ],
   "source": [
    "!pip install tqdm"
   ]
  },
  {
   "cell_type": "code",
   "execution_count": 22,
   "id": "5c59c0eb",
   "metadata": {
    "scrolled": false
   },
   "outputs": [
    {
     "data": {
      "application/vnd.jupyter.widget-view+json": {
       "model_id": "9d34713374d34ba6abf83b9d7f2787f9",
       "version_major": 2,
       "version_minor": 0
      },
      "text/plain": [
       "  0%|          | 0/26 [00:00<?, ?it/s]"
      ]
     },
     "metadata": {},
     "output_type": "display_data"
    },
    {
     "name": "stdout",
     "output_type": "stream",
     "text": [
      "./data/0-koda-gtfs-rt/2021-04-01T00.7z\n",
      "./data/0-koda-gtfs-rt/2021-04-02T00.7z\n",
      "./data/0-koda-gtfs-rt/2021-04-03T00.7z\n",
      "./data/0-koda-gtfs-rt/2021-04-04T00.7z\n",
      "./data/0-koda-gtfs-rt/2021-04-05T00.7z\n",
      "./data/0-koda-gtfs-rt/2021-04-06T00.7z\n",
      "./data/0-koda-gtfs-rt/2021-04-07T00.7z\n",
      "./data/0-koda-gtfs-rt/2021-04-08T00.7z\n",
      "./data/0-koda-gtfs-rt/2021-04-09T00.7z\n",
      "./data/0-koda-gtfs-rt/2021-04-10T00.7z\n",
      "./data/0-koda-gtfs-rt/2021-04-11T00.7z\n",
      "./data/0-koda-gtfs-rt/2021-04-12T00.7z\n",
      "./data/0-koda-gtfs-rt/2021-04-13T00.7z\n",
      "./data/0-koda-gtfs-rt/2021-04-14T00.7z\n",
      "./data/0-koda-gtfs-rt/2021-04-15T00.7z\n",
      "./data/0-koda-gtfs-rt/2021-04-16T00.7z\n",
      "./data/0-koda-gtfs-rt/2021-04-17T00.7z\n",
      "./data/0-koda-gtfs-rt/2021-04-18T00.7z\n",
      "./data/0-koda-gtfs-rt/2021-04-19T00.7z\n",
      "./data/0-koda-gtfs-rt/2021-04-20T00.7z\n",
      "./data/0-koda-gtfs-rt/2021-04-21T00.7z\n",
      "./data/0-koda-gtfs-rt/2021-04-22T00.7z\n",
      "./data/0-koda-gtfs-rt/2021-04-23T00.7z\n",
      "./data/0-koda-gtfs-rt/2021-04-24T00.7z\n",
      "./data/0-koda-gtfs-rt/2021-04-25T00.7z\n",
      "./data/0-koda-gtfs-rt/2021-04-26T00.7z\n"
     ]
    }
   ],
   "source": [
    "import requests\n",
    "from tqdm.notebook import tqdm\n",
    "import os.path\n",
    "\n",
    "!mkdir -p data/0-koda-gtfs-rt\n",
    "\n",
    "headers = {'accept': 'application/octet-stream'}\n",
    "\n",
    "# Loop over all days from 1 to 26 (last one is not included)\n",
    "for day in tqdm(range(1, 27)):\n",
    "    \n",
    "    # Create parameter dictionary including key for this iteration\n",
    "    params = {\n",
    "        'date': f\"\"\"2021-04-{day:02}\"\"\",\n",
    "        'key': '<ADD YOUR KEY HERE MARC & SACHIN>',\n",
    "    }\n",
    "\n",
    "    # Construct filename and output path\n",
    "    file_name = params['date'] + \"T\" + params.get('hour', '00')\n",
    "    file_path = f\"\"\"./data/0-koda-gtfs-rt/{file_name}.7z\"\"\"\n",
    "    print(file_path)\n",
    "    \n",
    "    # If file is already downloaded, we skip this iteration.\n",
    "    if os.path.exists(file_path):\n",
    "        continue;\n",
    "\n",
    "    # Fetch actual response\n",
    "    response = requests.get('https://api.koda.trafiklab.se/KoDa/api/v2/gtfs-rt/sl/VehiclePositions', \n",
    "                            params=params, headers=headers)\n",
    "    \n",
    "    # If status code is 200 (HTTP OK), save file. \n",
    "    if str(response.status_code) == \"200\":\n",
    "        with open(file_path, 'wb') as file:\n",
    "            file.write(response.content)\n",
    "        print(\"File downloading completed\")"
   ]
  },
  {
   "cell_type": "code",
   "execution_count": null,
   "id": "e3a84691",
   "metadata": {},
   "outputs": [],
   "source": []
  }
 ],
 "metadata": {
  "kernelspec": {
   "display_name": "Python 3",
   "language": "python",
   "name": "python3"
  },
  "language_info": {
   "codemirror_mode": {
    "name": "ipython",
    "version": 3
   },
   "file_extension": ".py",
   "mimetype": "text/x-python",
   "name": "python",
   "nbconvert_exporter": "python",
   "pygments_lexer": "ipython3",
   "version": "3.8.8"
  }
 },
 "nbformat": 4,
 "nbformat_minor": 5
}
