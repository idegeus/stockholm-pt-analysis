{
 "cells": [
  {
   "cell_type": "code",
   "execution_count": null,
   "id": "48234161",
   "metadata": {},
   "outputs": [],
   "source": [
    "!pip install tqdm --quiet"
   ]
  },
  {
   "cell_type": "code",
   "execution_count": 13,
   "id": "49987ee4",
   "metadata": {},
   "outputs": [
    {
     "name": "stdout",
     "output_type": "stream",
     "text": [
      "61\n"
     ]
    },
    {
     "data": {
      "text/plain": [
       "['2021-12-22',\n",
       " '2021-12-23',\n",
       " '2021-12-24',\n",
       " '2021-12-25',\n",
       " '2021-12-26',\n",
       " '2021-12-27',\n",
       " '2021-12-28',\n",
       " '2021-12-29',\n",
       " '2021-12-30',\n",
       " '2021-12-31']"
      ]
     },
     "execution_count": 13,
     "metadata": {},
     "output_type": "execute_result"
    }
   ],
   "source": [
    "import requests\n",
    "from tqdm.notebook import tqdm\n",
    "import os.path\n",
    "from calendar import monthrange\n",
    "import time\n",
    "\n",
    "API_KEY = \"FpIG19BfekWUFWGPhb5Nl_zIMPA7Z7gI7ZQ1DESEGkk\"\n",
    "# API_KEY = \"zw_mUBWe3F72OcpgY1j2FjnVQMULgW52uOJzvvdxT6A\"\n",
    "\n",
    "# Note the months to fetch and generate dates\n",
    "months = [10, 11, 12]\n",
    "dates = [f\"\"\"2021-{month:02}-{(day+1):02}\"\"\" for month in months for day in range(monthrange(2022, month)[1])]\n",
    "\n",
    "# Show last 10 days to fetch\n",
    "print(len(dates))\n",
    "dates[-10:]"
   ]
  },
  {
   "cell_type": "code",
   "execution_count": null,
   "id": "5c59c0eb",
   "metadata": {
    "scrolled": false
   },
   "outputs": [
    {
     "data": {
      "application/vnd.jupyter.widget-view+json": {
       "model_id": "43bd216fd10d491291de9d5aa010ae5f",
       "version_major": 2,
       "version_minor": 0
      },
      "text/plain": [
       "  0%|          | 0/61 [00:00<?, ?it/s]"
      ]
     },
     "metadata": {},
     "output_type": "display_data"
    },
    {
     "name": "stdout",
     "output_type": "stream",
     "text": [
      "2021-11-01 already fetched.\n",
      "2021-11-02 already fetched.\n",
      "2021-11-03 already fetched.\n",
      "<class 'int'> 200\n",
      "TU: Fetching\n",
      "<class 'int'> 200\n",
      "VP: Sleeping and trying again\n",
      "VP: Fetching\n",
      "<class 'int'> 200\n",
      "TU: Fetching\n",
      "<class 'int'> 200\n",
      "VP: Sleeping and trying again\n",
      "VP: Fetching\n",
      "<class 'int'> 200\n",
      "TU: Fetching\n",
      "<class 'int'> 200\n",
      "VP: Sleeping and trying again\n",
      "VP: Fetching\n",
      "<class 'int'> 200\n",
      "TU: Fetching\n",
      "<class 'int'> 200\n",
      "VP: Sleeping and trying again\n",
      "VP: Fetching\n",
      "<class 'int'> 200\n",
      "TU: Fetching\n",
      "<class 'int'> 200\n",
      "VP: Sleeping and trying again\n",
      "VP: Fetching\n",
      "<class 'int'> 200\n",
      "TU: Fetching\n",
      "<class 'int'> 200\n",
      "VP: Sleeping and trying again\n",
      "VP: Fetching\n",
      "<class 'int'> 200\n",
      "TU: Fetching\n"
     ]
    }
   ],
   "source": [
    "# Downloading real-time historical data.\n",
    "!mkdir -p ./data/0-koda-gtfs-rt/vp/\n",
    "!mkdir -p ./data/0-koda-gtfs-rt/tu/\n",
    "# !open ./data/0-koda-gtfs-rt/tu/\n",
    "\n",
    "headers = {'accept': 'application/octet-stream'}\n",
    "for date in tqdm(dates):\n",
    "\n",
    "    # Create parameter dictionary including key for this iteration\n",
    "    params = {'date': date, 'key': API_KEY}\n",
    "\n",
    "    # Construct filename and output path.\n",
    "    # If files are already downloaded, we skip this iteration.\n",
    "    file_path_vp = f\"\"\"./data/0-koda-gtfs-rt/vp/{params['date']}.7z\"\"\"\n",
    "    file_path_tu = f\"\"\"./data/0-koda-gtfs-rt/tu/{params['date']}.7z\"\"\"\n",
    "    if os.path.exists(file_path_vp) and os.path.exists(file_path_tu):\n",
    "        print(date + \" already fetched.\")\n",
    "        continue;\n",
    "\n",
    "    # Trip Updates\n",
    "    received = False\n",
    "    while received == False:\n",
    "        \n",
    "        response_tu = requests.get('https://api.koda.trafiklab.se/KoDa/api/v2/gtfs-rt/sl/TripUpdates', \n",
    "                        params=params, headers=headers)\n",
    "        print(type(response_tu.status_code), response_tu.status_code)\n",
    "        \n",
    "        if response_tu.status_code == 200: \n",
    "            received = True\n",
    "            print(\"TU: Fetching\")\n",
    "            with open(file_path_tu, 'wb') as file:\n",
    "                file.write(response_tu.content)\n",
    "                \n",
    "        if response_tu.status_code != 200:\n",
    "            print(\"TU: Sleeping and trying again\")\n",
    "            time.sleep(10)\n",
    "\n",
    "    # Vehicle Positions\n",
    "    received = False\n",
    "    while received == False:\n",
    "        \n",
    "        response_vp = requests.get('https://api.koda.trafiklab.se/KoDa/api/v2/gtfs-rt/sl/VehiclePositions', \n",
    "                                params=params, headers=headers)\n",
    "        print(type(response_vp.status_code), response_vp.status_code)\n",
    "        \n",
    "        if response_tu.status_code != 202:\n",
    "            print(\"VP: Sleeping and trying again\")\n",
    "            time.sleep(10)\n",
    "\n",
    "        if str(response_vp.status_code) == \"200\":\n",
    "            received = True\n",
    "            print(\"VP: Fetching\")\n",
    "            with open(file_path_vp, 'wb') as file:\n",
    "                file.write(response_vp.content)"
   ]
  },
  {
   "cell_type": "code",
   "execution_count": 12,
   "id": "4566433e",
   "metadata": {},
   "outputs": [
    {
     "data": {
      "text/plain": [
       "{'error': 400,\n",
       " 'message': '400 Bad Request: The date should be in the past. Data for today can only be downloaded starting tomorrow.'}"
      ]
     },
     "execution_count": 12,
     "metadata": {},
     "output_type": "execute_result"
    }
   ],
   "source": [
    "response_tu.json()"
   ]
  },
  {
   "cell_type": "code",
   "execution_count": null,
   "id": "93133d90",
   "metadata": {
    "scrolled": false
   },
   "outputs": [],
   "source": [
    "# Downloading static daily historical data.\n",
    "headers = {'accept': 'application/octet-stream'}\n",
    "\n",
    "# Loop over all days from 1 to 26 (last one is not included)\n",
    "for date in tqdm(dates):\n",
    "\n",
    "    # Create parameter dictionary including key for this iteration\n",
    "    params = {\n",
    "        'date': date,\n",
    "        'key': API_KEY,\n",
    "    }\n",
    "\n",
    "    # Construct filename and output path.\n",
    "    # If file is already downloaded, we skip this iteration.\n",
    "    file_path = f\"\"\"./data/0-koda-gtfs-static/{params['date']}.zip\"\"\"\n",
    "    if os.path.exists(file_path):\n",
    "        continue;\n",
    "\n",
    "    # Fetch actual response\n",
    "    response = requests.get('https://api.koda.trafiklab.se/KoDa/api/v2/gtfs-static/sl', \n",
    "                            params=params, headers=headers)\n",
    "\n",
    "    # If status code is 200 (HTTP OK), save file. \n",
    "    if str(response.status_code) == \"200\":\n",
    "        with open(file_path, 'wb') as file:\n",
    "            file.write(response.content)"
   ]
  },
  {
   "cell_type": "code",
   "execution_count": null,
   "id": "3e2c4b05",
   "metadata": {},
   "outputs": [],
   "source": []
  }
 ],
 "metadata": {
  "kernelspec": {
   "display_name": "Python 3",
   "language": "python",
   "name": "python3"
  },
  "language_info": {
   "codemirror_mode": {
    "name": "ipython",
    "version": 3
   },
   "file_extension": ".py",
   "mimetype": "text/x-python",
   "name": "python",
   "nbconvert_exporter": "python",
   "pygments_lexer": "ipython3",
   "version": "3.8.8"
  }
 },
 "nbformat": 4,
 "nbformat_minor": 5
}
