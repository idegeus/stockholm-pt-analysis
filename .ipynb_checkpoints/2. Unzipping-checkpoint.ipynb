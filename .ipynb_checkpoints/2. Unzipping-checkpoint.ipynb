{
 "cells": [
  {
   "cell_type": "code",
   "execution_count": 15,
   "id": "6c120116",
   "metadata": {},
   "outputs": [],
   "source": [
    "# Required tool for unzipping all the files\n",
    "!pip install py7zr --quiet"
   ]
  },
  {
   "cell_type": "code",
   "execution_count": null,
   "id": "c57ed936",
   "metadata": {},
   "outputs": [
    {
     "data": {
      "application/vnd.jupyter.widget-view+json": {
       "model_id": "48e99fce091f4255b2627fa3ec138934",
       "version_major": 2,
       "version_minor": 0
      },
      "text/plain": [
       "  0%|          | 0/26 [00:00<?, ?it/s]"
      ]
     },
     "metadata": {},
     "output_type": "display_data"
    },
    {
     "name": "stdout",
     "output_type": "stream",
     "text": [
      "./files/1-koda-gtfs-rt-extracted/2021-04-03T00/\n",
      "mkdir: ./files/1-koda-gtfs-rt-extracted/2021-04-03T00/: File exists\n",
      "./files/1-koda-gtfs-rt-extracted/2021-04-01T00/\n",
      "./files/1-koda-gtfs-rt-extracted/2021-04-18T00/\n",
      "./files/1-koda-gtfs-rt-extracted/2021-04-25T00/\n",
      "./files/1-koda-gtfs-rt-extracted/2021-04-21T00/\n",
      "./files/1-koda-gtfs-rt-extracted/2021-04-05T00/\n",
      "./files/1-koda-gtfs-rt-extracted/2021-04-07T00/\n",
      "./files/1-koda-gtfs-rt-extracted/2021-04-23T00/\n"
     ]
    }
   ],
   "source": [
    "import py7zr\n",
    "from glob import glob\n",
    "from tqdm.notebook import tqdm\n",
    "\n",
    "# Loop over all the files found in the source folder\n",
    "for file in tqdm(glob('./files/0-koda-gtfs-rt/*.7z')):\n",
    "    \n",
    "    # Split file path into file name without extension\n",
    "    file_name = file.split('/').pop()[:-3]\n",
    "    \n",
    "    # Construct output folder path\n",
    "    folder_output = f\"\"\"./files/1-koda-gtfs-rt-extracted/{file_name}/\"\"\"\n",
    "    \n",
    "    # Create output folder\n",
    "    print(folder_output)\n",
    "    !mkdir -p {folder_output}\n",
    "    \n",
    "    # Unzip the file into the created folder\n",
    "    with py7zr.SevenZipFile(file, mode='r') as zipfile:\n",
    "        zipfile.extractall(folder_output)\n",
    "    "
   ]
  },
  {
   "cell_type": "markdown",
   "id": "7f5b88f9",
   "metadata": {},
   "source": [
    "# Parsing"
   ]
  },
  {
   "cell_type": "code",
   "execution_count": null,
   "id": "27581070",
   "metadata": {},
   "outputs": [],
   "source": []
  },
  {
   "cell_type": "code",
   "execution_count": null,
   "id": "2f91b239",
   "metadata": {},
   "outputs": [],
   "source": []
  },
  {
   "cell_type": "code",
   "execution_count": null,
   "id": "1012b4e8",
   "metadata": {},
   "outputs": [],
   "source": []
  }
 ],
 "metadata": {
  "kernelspec": {
   "display_name": "Python 3",
   "language": "python",
   "name": "python3"
  },
  "language_info": {
   "codemirror_mode": {
    "name": "ipython",
    "version": 3
   },
   "file_extension": ".py",
   "mimetype": "text/x-python",
   "name": "python",
   "nbconvert_exporter": "python",
   "pygments_lexer": "ipython3",
   "version": "3.8.8"
  }
 },
 "nbformat": 4,
 "nbformat_minor": 5
}
