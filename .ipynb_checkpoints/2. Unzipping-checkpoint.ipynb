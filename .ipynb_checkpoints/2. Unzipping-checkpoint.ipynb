{
 "cells": [
  {
   "cell_type": "code",
   "execution_count": 8,
   "id": "4bee1bbb",
   "metadata": {},
   "outputs": [
    {
     "name": "stdout",
     "output_type": "stream",
     "text": [
      "Requirement already satisfied: py7zr in /Users/ivo/opt/anaconda3/lib/python3.8/site-packages (0.18.5)\n",
      "Requirement already satisfied: zipfile-deflate64>=0.2.0 in /Users/ivo/opt/anaconda3/lib/python3.8/site-packages (from py7zr) (0.2.0)\n",
      "Requirement already satisfied: pyppmd<0.19.0,>=0.18.1 in /Users/ivo/opt/anaconda3/lib/python3.8/site-packages (from py7zr) (0.18.2)\n",
      "Requirement already satisfied: pyzstd>=0.14.4 in /Users/ivo/opt/anaconda3/lib/python3.8/site-packages (from py7zr) (0.15.2)\n",
      "Requirement already satisfied: pybcj>=0.5.0 in /Users/ivo/opt/anaconda3/lib/python3.8/site-packages (from py7zr) (0.5.2)\n",
      "Requirement already satisfied: psutil in /Users/ivo/opt/anaconda3/lib/python3.8/site-packages (from py7zr) (5.8.0)\n",
      "Requirement already satisfied: pycryptodomex>=3.6.6 in /Users/ivo/opt/anaconda3/lib/python3.8/site-packages (from py7zr) (3.14.1)\n",
      "Requirement already satisfied: brotli>=1.0.9 in /Users/ivo/opt/anaconda3/lib/python3.8/site-packages (from py7zr) (1.0.9)\n",
      "Requirement already satisfied: multivolumefile>=0.2.3 in /Users/ivo/opt/anaconda3/lib/python3.8/site-packages (from py7zr) (0.2.3)\n",
      "Requirement already satisfied: texttable in /Users/ivo/opt/anaconda3/lib/python3.8/site-packages (from py7zr) (1.6.4)\n"
     ]
    }
   ],
   "source": [
    "!pip install py7zr"
   ]
  },
  {
   "cell_type": "markdown",
   "id": "12e8bf06",
   "metadata": {},
   "source": [
    "# Unzipping"
   ]
  },
  {
   "cell_type": "code",
   "execution_count": null,
   "id": "87189a65",
   "metadata": {},
   "outputs": [],
   "source": [
    "import py7zr\n",
    "\n",
    "file_path_input  = './files/2021-04-01T00.7z'\n",
    "file_path_output = './files/2021-04-01T00/'\n",
    "\n",
    "with py7zr.SevenZipFile(file_path_input, 'w') as z:\n",
    "    z.writeall(file_path_output)"
   ]
  },
  {
   "cell_type": "markdown",
   "id": "71a428f8",
   "metadata": {},
   "source": [
    "# Parsing"
   ]
  },
  {
   "cell_type": "code",
   "execution_count": null,
   "id": "f2c72a87",
   "metadata": {},
   "outputs": [],
   "source": [
    "!pip install --upgrade gtfs-realtime-bindings"
   ]
  },
  {
   "cell_type": "code",
   "execution_count": null,
   "id": "717ec9f3",
   "metadata": {},
   "outputs": [],
   "source": [
    "from google.transit import gtfs_realtime_pb2"
   ]
  },
  {
   "cell_type": "code",
   "execution_count": null,
   "id": "eba8db4d",
   "metadata": {},
   "outputs": [],
   "source": [
    "with open(filename, 'r') as file:\n",
    "    feed = file.read()\n",
    "\n",
    "feed.ParseFromString(response.read())\n",
    "for entity in feed.entity:\n",
    "    if entity.HasField('trip_update'):\n",
    "        print entity.trip_update"
   ]
  }
 ],
 "metadata": {
  "kernelspec": {
   "display_name": "Python 3",
   "language": "python",
   "name": "python3"
  },
  "language_info": {
   "codemirror_mode": {
    "name": "ipython",
    "version": 3
   },
   "file_extension": ".py",
   "mimetype": "text/x-python",
   "name": "python",
   "nbconvert_exporter": "python",
   "pygments_lexer": "ipython3",
   "version": "3.8.8"
  }
 },
 "nbformat": 4,
 "nbformat_minor": 5
}
