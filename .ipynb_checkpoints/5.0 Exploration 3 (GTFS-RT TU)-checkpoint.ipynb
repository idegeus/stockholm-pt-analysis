{
 "cells": [
  {
   "cell_type": "code",
   "execution_count": 2,
   "id": "b2368a79",
   "metadata": {
    "ExecuteTime": {
     "end_time": "2022-05-19T09:49:06.906750Z",
     "start_time": "2022-05-19T09:49:03.812969Z"
    }
   },
   "outputs": [],
   "source": [
    "from google.transit import gtfs_realtime_pb2\n",
    "import os\n",
    "import pandas as pd\n",
    "import geopandas as gpd\n",
    "from shapely.geometry import Point\n",
    "import contextily as cx\n",
    "import matplotlib.pyplot as plt\n",
    "from glob import glob\n",
    "from tqdm.notebook import tqdm\n",
    "import zipfile\n",
    "from pathlib import Path\n",
    "import py7zr\n",
    "import csv\n",
    "\n",
    "LINES_NAME = 'tvarbanan'\n",
    "LINES_NAME = 'caner-pendeltåg'"
   ]
  },
  {
   "cell_type": "markdown",
   "id": "7da8408d",
   "metadata": {},
   "source": [
    "## Read in GTFS Static Data"
   ]
  },
  {
   "cell_type": "code",
   "execution_count": 3,
   "id": "8a437d28",
   "metadata": {
    "ExecuteTime": {
     "end_time": "2022-05-19T09:49:12.127737Z",
     "start_time": "2022-05-19T09:49:11.983052Z"
    },
    "scrolled": false
   },
   "outputs": [
    {
     "ename": "FileNotFoundError",
     "evalue": "[Errno 2] No such file or directory: './data/2-working-data/caner-pendeltåg-stops.csv'",
     "output_type": "error",
     "traceback": [
      "\u001b[0;31m---------------------------------------------------------------------------\u001b[0m",
      "\u001b[0;31mFileNotFoundError\u001b[0m                         Traceback (most recent call last)",
      "\u001b[0;32m<ipython-input-3-f23b9f2fc371>\u001b[0m in \u001b[0;36m<module>\u001b[0;34m\u001b[0m\n\u001b[1;32m      1\u001b[0m \u001b[0;31m# Stops selected for Tvärbanan\u001b[0m\u001b[0;34m\u001b[0m\u001b[0;34m\u001b[0m\u001b[0;34m\u001b[0m\u001b[0m\n\u001b[0;32m----> 2\u001b[0;31m \u001b[0mstops\u001b[0m \u001b[0;34m=\u001b[0m \u001b[0mpd\u001b[0m\u001b[0;34m.\u001b[0m\u001b[0mread_csv\u001b[0m\u001b[0;34m(\u001b[0m\u001b[0;34mf\"\"\"./data/2-working-data/{LINES_NAME}-stops.csv\"\"\"\u001b[0m\u001b[0;34m,\u001b[0m \u001b[0mindex_col\u001b[0m\u001b[0;34m=\u001b[0m\u001b[0;36m0\u001b[0m\u001b[0;34m)\u001b[0m\u001b[0;34m\u001b[0m\u001b[0;34m\u001b[0m\u001b[0m\n\u001b[0m\u001b[1;32m      3\u001b[0m \u001b[0mstops\u001b[0m\u001b[0;34m.\u001b[0m\u001b[0mstop_id\u001b[0m \u001b[0;34m=\u001b[0m \u001b[0mstops\u001b[0m\u001b[0;34m.\u001b[0m\u001b[0mstop_id\u001b[0m\u001b[0;34m.\u001b[0m\u001b[0mastype\u001b[0m\u001b[0;34m(\u001b[0m\u001b[0mstr\u001b[0m\u001b[0;34m)\u001b[0m\u001b[0;34m\u001b[0m\u001b[0;34m\u001b[0m\u001b[0m\n\u001b[1;32m      4\u001b[0m \u001b[0;34m\u001b[0m\u001b[0m\n\u001b[1;32m      5\u001b[0m \u001b[0;31m# Change to GeoDataFrame\u001b[0m\u001b[0;34m\u001b[0m\u001b[0;34m\u001b[0m\u001b[0;34m\u001b[0m\u001b[0m\n",
      "\u001b[0;32m~/opt/anaconda3/lib/python3.8/site-packages/pandas/io/parsers.py\u001b[0m in \u001b[0;36mread_csv\u001b[0;34m(filepath_or_buffer, sep, delimiter, header, names, index_col, usecols, squeeze, prefix, mangle_dupe_cols, dtype, engine, converters, true_values, false_values, skipinitialspace, skiprows, skipfooter, nrows, na_values, keep_default_na, na_filter, verbose, skip_blank_lines, parse_dates, infer_datetime_format, keep_date_col, date_parser, dayfirst, cache_dates, iterator, chunksize, compression, thousands, decimal, lineterminator, quotechar, quoting, doublequote, escapechar, comment, encoding, dialect, error_bad_lines, warn_bad_lines, delim_whitespace, low_memory, memory_map, float_precision, storage_options)\u001b[0m\n\u001b[1;32m    608\u001b[0m     \u001b[0mkwds\u001b[0m\u001b[0;34m.\u001b[0m\u001b[0mupdate\u001b[0m\u001b[0;34m(\u001b[0m\u001b[0mkwds_defaults\u001b[0m\u001b[0;34m)\u001b[0m\u001b[0;34m\u001b[0m\u001b[0;34m\u001b[0m\u001b[0m\n\u001b[1;32m    609\u001b[0m \u001b[0;34m\u001b[0m\u001b[0m\n\u001b[0;32m--> 610\u001b[0;31m     \u001b[0;32mreturn\u001b[0m \u001b[0m_read\u001b[0m\u001b[0;34m(\u001b[0m\u001b[0mfilepath_or_buffer\u001b[0m\u001b[0;34m,\u001b[0m \u001b[0mkwds\u001b[0m\u001b[0;34m)\u001b[0m\u001b[0;34m\u001b[0m\u001b[0;34m\u001b[0m\u001b[0m\n\u001b[0m\u001b[1;32m    611\u001b[0m \u001b[0;34m\u001b[0m\u001b[0m\n\u001b[1;32m    612\u001b[0m \u001b[0;34m\u001b[0m\u001b[0m\n",
      "\u001b[0;32m~/opt/anaconda3/lib/python3.8/site-packages/pandas/io/parsers.py\u001b[0m in \u001b[0;36m_read\u001b[0;34m(filepath_or_buffer, kwds)\u001b[0m\n\u001b[1;32m    460\u001b[0m \u001b[0;34m\u001b[0m\u001b[0m\n\u001b[1;32m    461\u001b[0m     \u001b[0;31m# Create the parser.\u001b[0m\u001b[0;34m\u001b[0m\u001b[0;34m\u001b[0m\u001b[0;34m\u001b[0m\u001b[0m\n\u001b[0;32m--> 462\u001b[0;31m     \u001b[0mparser\u001b[0m \u001b[0;34m=\u001b[0m \u001b[0mTextFileReader\u001b[0m\u001b[0;34m(\u001b[0m\u001b[0mfilepath_or_buffer\u001b[0m\u001b[0;34m,\u001b[0m \u001b[0;34m**\u001b[0m\u001b[0mkwds\u001b[0m\u001b[0;34m)\u001b[0m\u001b[0;34m\u001b[0m\u001b[0;34m\u001b[0m\u001b[0m\n\u001b[0m\u001b[1;32m    463\u001b[0m \u001b[0;34m\u001b[0m\u001b[0m\n\u001b[1;32m    464\u001b[0m     \u001b[0;32mif\u001b[0m \u001b[0mchunksize\u001b[0m \u001b[0;32mor\u001b[0m \u001b[0miterator\u001b[0m\u001b[0;34m:\u001b[0m\u001b[0;34m\u001b[0m\u001b[0;34m\u001b[0m\u001b[0m\n",
      "\u001b[0;32m~/opt/anaconda3/lib/python3.8/site-packages/pandas/io/parsers.py\u001b[0m in \u001b[0;36m__init__\u001b[0;34m(self, f, engine, **kwds)\u001b[0m\n\u001b[1;32m    817\u001b[0m             \u001b[0mself\u001b[0m\u001b[0;34m.\u001b[0m\u001b[0moptions\u001b[0m\u001b[0;34m[\u001b[0m\u001b[0;34m\"has_index_names\"\u001b[0m\u001b[0;34m]\u001b[0m \u001b[0;34m=\u001b[0m \u001b[0mkwds\u001b[0m\u001b[0;34m[\u001b[0m\u001b[0;34m\"has_index_names\"\u001b[0m\u001b[0;34m]\u001b[0m\u001b[0;34m\u001b[0m\u001b[0;34m\u001b[0m\u001b[0m\n\u001b[1;32m    818\u001b[0m \u001b[0;34m\u001b[0m\u001b[0m\n\u001b[0;32m--> 819\u001b[0;31m         \u001b[0mself\u001b[0m\u001b[0;34m.\u001b[0m\u001b[0m_engine\u001b[0m \u001b[0;34m=\u001b[0m \u001b[0mself\u001b[0m\u001b[0;34m.\u001b[0m\u001b[0m_make_engine\u001b[0m\u001b[0;34m(\u001b[0m\u001b[0mself\u001b[0m\u001b[0;34m.\u001b[0m\u001b[0mengine\u001b[0m\u001b[0;34m)\u001b[0m\u001b[0;34m\u001b[0m\u001b[0;34m\u001b[0m\u001b[0m\n\u001b[0m\u001b[1;32m    820\u001b[0m \u001b[0;34m\u001b[0m\u001b[0m\n\u001b[1;32m    821\u001b[0m     \u001b[0;32mdef\u001b[0m \u001b[0mclose\u001b[0m\u001b[0;34m(\u001b[0m\u001b[0mself\u001b[0m\u001b[0;34m)\u001b[0m\u001b[0;34m:\u001b[0m\u001b[0;34m\u001b[0m\u001b[0;34m\u001b[0m\u001b[0m\n",
      "\u001b[0;32m~/opt/anaconda3/lib/python3.8/site-packages/pandas/io/parsers.py\u001b[0m in \u001b[0;36m_make_engine\u001b[0;34m(self, engine)\u001b[0m\n\u001b[1;32m   1048\u001b[0m             )\n\u001b[1;32m   1049\u001b[0m         \u001b[0;31m# error: Too many arguments for \"ParserBase\"\u001b[0m\u001b[0;34m\u001b[0m\u001b[0;34m\u001b[0m\u001b[0;34m\u001b[0m\u001b[0m\n\u001b[0;32m-> 1050\u001b[0;31m         \u001b[0;32mreturn\u001b[0m \u001b[0mmapping\u001b[0m\u001b[0;34m[\u001b[0m\u001b[0mengine\u001b[0m\u001b[0;34m]\u001b[0m\u001b[0;34m(\u001b[0m\u001b[0mself\u001b[0m\u001b[0;34m.\u001b[0m\u001b[0mf\u001b[0m\u001b[0;34m,\u001b[0m \u001b[0;34m**\u001b[0m\u001b[0mself\u001b[0m\u001b[0;34m.\u001b[0m\u001b[0moptions\u001b[0m\u001b[0;34m)\u001b[0m  \u001b[0;31m# type: ignore[call-arg]\u001b[0m\u001b[0;34m\u001b[0m\u001b[0;34m\u001b[0m\u001b[0m\n\u001b[0m\u001b[1;32m   1051\u001b[0m \u001b[0;34m\u001b[0m\u001b[0m\n\u001b[1;32m   1052\u001b[0m     \u001b[0;32mdef\u001b[0m \u001b[0m_failover_to_python\u001b[0m\u001b[0;34m(\u001b[0m\u001b[0mself\u001b[0m\u001b[0;34m)\u001b[0m\u001b[0;34m:\u001b[0m\u001b[0;34m\u001b[0m\u001b[0;34m\u001b[0m\u001b[0m\n",
      "\u001b[0;32m~/opt/anaconda3/lib/python3.8/site-packages/pandas/io/parsers.py\u001b[0m in \u001b[0;36m__init__\u001b[0;34m(self, src, **kwds)\u001b[0m\n\u001b[1;32m   1865\u001b[0m \u001b[0;34m\u001b[0m\u001b[0m\n\u001b[1;32m   1866\u001b[0m         \u001b[0;31m# open handles\u001b[0m\u001b[0;34m\u001b[0m\u001b[0;34m\u001b[0m\u001b[0;34m\u001b[0m\u001b[0m\n\u001b[0;32m-> 1867\u001b[0;31m         \u001b[0mself\u001b[0m\u001b[0;34m.\u001b[0m\u001b[0m_open_handles\u001b[0m\u001b[0;34m(\u001b[0m\u001b[0msrc\u001b[0m\u001b[0;34m,\u001b[0m \u001b[0mkwds\u001b[0m\u001b[0;34m)\u001b[0m\u001b[0;34m\u001b[0m\u001b[0;34m\u001b[0m\u001b[0m\n\u001b[0m\u001b[1;32m   1868\u001b[0m         \u001b[0;32massert\u001b[0m \u001b[0mself\u001b[0m\u001b[0;34m.\u001b[0m\u001b[0mhandles\u001b[0m \u001b[0;32mis\u001b[0m \u001b[0;32mnot\u001b[0m \u001b[0;32mNone\u001b[0m\u001b[0;34m\u001b[0m\u001b[0;34m\u001b[0m\u001b[0m\n\u001b[1;32m   1869\u001b[0m         \u001b[0;32mfor\u001b[0m \u001b[0mkey\u001b[0m \u001b[0;32min\u001b[0m \u001b[0;34m(\u001b[0m\u001b[0;34m\"storage_options\"\u001b[0m\u001b[0;34m,\u001b[0m \u001b[0;34m\"encoding\"\u001b[0m\u001b[0;34m,\u001b[0m \u001b[0;34m\"memory_map\"\u001b[0m\u001b[0;34m,\u001b[0m \u001b[0;34m\"compression\"\u001b[0m\u001b[0;34m)\u001b[0m\u001b[0;34m:\u001b[0m\u001b[0;34m\u001b[0m\u001b[0;34m\u001b[0m\u001b[0m\n",
      "\u001b[0;32m~/opt/anaconda3/lib/python3.8/site-packages/pandas/io/parsers.py\u001b[0m in \u001b[0;36m_open_handles\u001b[0;34m(self, src, kwds)\u001b[0m\n\u001b[1;32m   1360\u001b[0m         \u001b[0mLet\u001b[0m \u001b[0mthe\u001b[0m \u001b[0mreaders\u001b[0m \u001b[0mopen\u001b[0m \u001b[0mIOHanldes\u001b[0m \u001b[0mafter\u001b[0m \u001b[0mthey\u001b[0m \u001b[0mare\u001b[0m \u001b[0mdone\u001b[0m \u001b[0;32mwith\u001b[0m \u001b[0mtheir\u001b[0m \u001b[0mpotential\u001b[0m \u001b[0mraises\u001b[0m\u001b[0;34m.\u001b[0m\u001b[0;34m\u001b[0m\u001b[0;34m\u001b[0m\u001b[0m\n\u001b[1;32m   1361\u001b[0m         \"\"\"\n\u001b[0;32m-> 1362\u001b[0;31m         self.handles = get_handle(\n\u001b[0m\u001b[1;32m   1363\u001b[0m             \u001b[0msrc\u001b[0m\u001b[0;34m,\u001b[0m\u001b[0;34m\u001b[0m\u001b[0;34m\u001b[0m\u001b[0m\n\u001b[1;32m   1364\u001b[0m             \u001b[0;34m\"r\"\u001b[0m\u001b[0;34m,\u001b[0m\u001b[0;34m\u001b[0m\u001b[0;34m\u001b[0m\u001b[0m\n",
      "\u001b[0;32m~/opt/anaconda3/lib/python3.8/site-packages/pandas/io/common.py\u001b[0m in \u001b[0;36mget_handle\u001b[0;34m(path_or_buf, mode, encoding, compression, memory_map, is_text, errors, storage_options)\u001b[0m\n\u001b[1;32m    640\u001b[0m                 \u001b[0merrors\u001b[0m \u001b[0;34m=\u001b[0m \u001b[0;34m\"replace\"\u001b[0m\u001b[0;34m\u001b[0m\u001b[0;34m\u001b[0m\u001b[0m\n\u001b[1;32m    641\u001b[0m             \u001b[0;31m# Encoding\u001b[0m\u001b[0;34m\u001b[0m\u001b[0;34m\u001b[0m\u001b[0;34m\u001b[0m\u001b[0m\n\u001b[0;32m--> 642\u001b[0;31m             handle = open(\n\u001b[0m\u001b[1;32m    643\u001b[0m                 \u001b[0mhandle\u001b[0m\u001b[0;34m,\u001b[0m\u001b[0;34m\u001b[0m\u001b[0;34m\u001b[0m\u001b[0m\n\u001b[1;32m    644\u001b[0m                 \u001b[0mioargs\u001b[0m\u001b[0;34m.\u001b[0m\u001b[0mmode\u001b[0m\u001b[0;34m,\u001b[0m\u001b[0;34m\u001b[0m\u001b[0;34m\u001b[0m\u001b[0m\n",
      "\u001b[0;31mFileNotFoundError\u001b[0m: [Errno 2] No such file or directory: './data/2-working-data/caner-pendeltåg-stops.csv'"
     ]
    }
   ],
   "source": [
    "# Stops selected for Tvärbanan\n",
    "stops = pd.read_csv(f\"\"\"./data/2-working-data/{LINES_NAME}-stops.csv\"\"\", index_col=0)\n",
    "stops.stop_id = stops.stop_id.astype(str)\n",
    "\n",
    "# Change to GeoDataFrame\n",
    "stops['geometry'] = stops.apply(lambda x: Point(x.stop_lon, x.stop_lat), axis=1)\n",
    "stops = stops.drop(columns=['location_type', 'stop_lat', 'stop_lon', 'platform_code', 'parent_station'])\n",
    "stops = gpd.GeoDataFrame(stops, crs='EPSG:4326')\n",
    "\n",
    "# Plot out and show stops\n",
    "ax = stops.plot()\n",
    "cx.add_basemap(ax, crs=stops.crs)\n",
    "\n",
    "stops.head()"
   ]
  },
  {
   "cell_type": "markdown",
   "id": "85eba885",
   "metadata": {},
   "source": [
    "## Read in all TripUpdates"
   ]
  },
  {
   "cell_type": "code",
   "execution_count": 7,
   "id": "2ebdc9be",
   "metadata": {
    "ExecuteTime": {
     "end_time": "2022-05-19T09:54:17.707457Z",
     "start_time": "2022-05-19T09:54:17.698273Z"
    }
   },
   "outputs": [
    {
     "data": {
      "text/plain": [
       "(['./data/0-koda-gtfs-rt/tu/2021-06-21.7z',\n",
       "  './data/0-koda-gtfs-rt/tu/2021-06-22.7z',\n",
       "  './data/0-koda-gtfs-rt/tu/2021-06-23.7z',\n",
       "  './data/0-koda-gtfs-rt/tu/2021-06-24.7z',\n",
       "  './data/0-koda-gtfs-rt/tu/2021-06-25.7z'],\n",
       " 5)"
      ]
     },
     "execution_count": 7,
     "metadata": {},
     "output_type": "execute_result"
    }
   ],
   "source": [
    "# Collect all the days in the different months\n",
    "days = glob(\"./data/0-koda-gtfs-rt/tu/2021-06-*.7z\")[:14]\n",
    "\n",
    "# Sample\n",
    "days = ['./data/0-koda-gtfs-rt/tu/2021-06-21.7z',\n",
    "        './data/0-koda-gtfs-rt/tu/2021-06-22.7z',\n",
    "        './data/0-koda-gtfs-rt/tu/2021-06-23.7z',\n",
    "        './data/0-koda-gtfs-rt/tu/2021-06-24.7z',\n",
    "        './data/0-koda-gtfs-rt/tu/2021-06-25.7z']\n",
    "\n",
    "days[:5], len(days)"
   ]
  },
  {
   "cell_type": "code",
   "execution_count": 11,
   "id": "5e13a104",
   "metadata": {
    "ExecuteTime": {
     "end_time": "2022-05-17T08:36:54.593355Z",
     "start_time": "2022-05-17T08:36:54.455914Z"
    },
    "scrolled": false
   },
   "outputs": [
    {
     "data": {
      "application/vnd.jupyter.widget-view+json": {
       "model_id": "9968755eab6d4bcb89be85b651050dcd",
       "version_major": 2,
       "version_minor": 0
      },
      "text/plain": [
       "  0%|          | 0/115 [00:00<?, ?it/s]"
      ]
     },
     "metadata": {},
     "output_type": "display_data"
    },
    {
     "name": "stdout",
     "output_type": "stream",
     "text": [
      "TU-20211031 exists.\n",
      "TU-20211211 exists.\n",
      "TU-20211005 exists.\n",
      "TU-20210618 exists.\n",
      "TU-20210608 exists.\n",
      "TU-20211015 exists.\n",
      "TU-20211201 exists.\n",
      "TU-20211021 exists.\n",
      "TU-20211001 exists.\n",
      "TU-20211215 exists.\n",
      "TU-20211221 exists.\n",
      "TU-20210628 exists.\n",
      "TU-20211025 exists.\n",
      "TU-20211205 exists.\n",
      "TU-20211011 exists.\n",
      "TU-20211214 exists.\n",
      "TU-20211220 exists.\n",
      "TU-20210629 exists.\n",
      "TU-20211024 exists.\n",
      "TU-20211204 exists.\n",
      "TU-20211010 exists.\n",
      "TU-20211030 exists.\n",
      "TU-20211224 exists.\n",
      "TU-20211004 exists.\n",
      "TU-20210619 exists.\n",
      "TU-20210609 exists.\n",
      "TU-20211014 exists.\n",
      "TU-20211020 exists.\n",
      "TU-20210626 exists.\n",
      "TU-20210612 exists.\n",
      "TU-20211101 exists.\n",
      "TU-20211111 exists.\n",
      "TU-20211125 exists.\n",
      "TU-20210602 exists.\n",
      "TU-20210616 exists.\n",
      "TU-20210622 exists.\n",
      "TU-20211105 exists.\n",
      "TU-20211121 exists.\n",
      "TU-20211115 exists.\n",
      "TU-20210606 exists.\n",
      "TU-20210617 exists.\n",
      "TU-20210623 exists.\n",
      "TU-20211104 exists.\n",
      "TU-20211130 exists.\n",
      "TU-20211120 exists.\n",
      "TU-20211114 exists.\n",
      "TU-20210607 exists.\n",
      "TU-20210613 exists.\n",
      "TU-20211110 exists.\n",
      "TU-20211124 exists.\n",
      "TU-20210603 exists.\n",
      "TU-20210614 exists.\n",
      "TU-20210620 exists.\n",
      "TU-20211107 exists.\n",
      "TU-20211009 exists.\n",
      "TU-20211123 exists.\n",
      "TU-20211019 exists.\n",
      "TU-20211117 exists.\n",
      "TU-20210630 exists.\n",
      "TU-20210604 exists.\n",
      "TU-20210624 exists.\n",
      "TU-20210610 exists.\n",
      "TU-20211103 exists.\n",
      "TU-20211219 exists.\n",
      "TU-20211209 exists.\n",
      "TU-20211113 exists.\n",
      "TU-20211029 exists.\n",
      "TU-20211127 exists.\n",
      "TU-20210625 exists.\n",
      "TU-20210611 exists.\n",
      "TU-20211102 exists.\n",
      "TU-20211218 exists.\n",
      "TU-20211208 exists.\n",
      "TU-20211112 exists.\n",
      "TU-20211028 exists.\n",
      "TU-20211126 exists.\n",
      "TU-20210601 exists.\n",
      "TU-20210615 exists.\n",
      "TU-20210621 exists.\n",
      "TU-20211106 exists.\n",
      "TU-20211008 exists.\n",
      "TU-20211122 exists.\n",
      "TU-20211018 exists.\n",
      "TU-20211116 exists.\n",
      "TU-20210605 exists.\n",
      "TU-20211217 exists.\n",
      "TU-20211003 exists.\n",
      "TU-20211223 exists.\n",
      "TU-20211129 exists.\n",
      "TU-20211027 exists.\n",
      "TU-20211013 exists.\n",
      "TU-20211207 exists.\n",
      "TU-20211007 exists.\n",
      "TU-20211213 exists.\n",
      "TU-20211109 exists.\n",
      "TU-20210809 exists.\n",
      "TU-20211119 exists.\n",
      "TU-20211203 exists.\n",
      "TU-20211017 exists.\n",
      "TU-20211023 exists.\n",
      "TU-20211006 exists.\n",
      "TU-20211212 exists.\n",
      "TU-20211108 exists.\n",
      "TU-20211118 exists.\n",
      "TU-20211202 exists.\n",
      "TU-20211016 exists.\n",
      "TU-20211022 exists.\n",
      "TU-20211216 exists.\n",
      "TU-20211002 exists.\n",
      "TU-20211222 exists.\n",
      "TU-20210701 exists.\n",
      "TU-20211128 exists.\n",
      "TU-20211026 exists.\n",
      "TU-20211012 exists.\n",
      "TU-20211206 exists.\n"
     ]
    }
   ],
   "source": [
    "iterator = tqdm(days)\n",
    "for day in iterator:\n",
    "\n",
    "    path = day.split('/')[4]\n",
    "    out = f\"\"\"TU-{LINES_NAME}-{path[:4]}{path[5:7]}{path[8:10]}\"\"\"\n",
    "    out_path = f\"\"\"./data/3-cleaned-data/{out}.csv\"\"\"\n",
    "    \n",
    "    if os.path.exists(out_path):\n",
    "        print(out+\" exists.\")\n",
    "        continue\n",
    "    \n",
    "    with py7zr.SevenZipFile(day, 'r') as archive:\n",
    "        allfiles = archive.getnames()\n",
    "        targets = [f for f in allfiles if f.endswith('.pb')]\n",
    "        iterator.set_description(f\"\"\"{out}: Unpacking {len(targets)} files\"\"\")\n",
    "        files = archive.read(targets)\n",
    "\n",
    "    iterator.set_description(f\"\"\"{out}: Reading\"\"\")\n",
    "    tu_data = []\n",
    "    for target in tqdm(targets, leave=False):\n",
    "\n",
    "        feed = gtfs_realtime_pb2.FeedMessage()\n",
    "        feed.ParseFromString(files[target].read())\n",
    "\n",
    "        for e in feed.entity: \n",
    "            tu_data += [\n",
    "                (e.trip_update.timestamp, \n",
    "                 e.trip_update.trip.trip_id,\n",
    "                 e.trip_update.trip.schedule_relationship,\n",
    "                 stop_update.stop_id,\n",
    "                 stop_update.arrival.time, \n",
    "                 stop_update.arrival.delay, \n",
    "                 stop_update.departure.time,\n",
    "                 stop_update.departure.delay)\n",
    "                for stop_update in e.trip_update.stop_time_update\n",
    "                if stop_update.stop_id in stops.stop_id.to_list()\n",
    "        ]\n",
    "    \n",
    "    iterator.set_description(f\"\"\"{out}: Writing CSV with {len(tu_data)} lines\"\"\")\n",
    "    # Incorporate collected data into DataFrame.\n",
    "    tu_df = pd.DataFrame(tu_data, columns=['timestamp', 'trip_id', 'rel', 'stop_id', \n",
    "                                        'arrival_ts', 'arrival_delay', \n",
    "                                        'departure_ts', 'departure_delay'])\n",
    "\n",
    "    tu_df.to_csv(out_path)\n",
    "    \n",
    "    del tu_df\n",
    "    del tu_data"
   ]
  },
  {
   "cell_type": "code",
   "execution_count": null,
   "id": "c97cba92",
   "metadata": {},
   "outputs": [],
   "source": []
  }
 ],
 "metadata": {
  "kernelspec": {
   "display_name": "Python 3",
   "language": "python",
   "name": "python3"
  },
  "language_info": {
   "codemirror_mode": {
    "name": "ipython",
    "version": 3
   },
   "file_extension": ".py",
   "mimetype": "text/x-python",
   "name": "python",
   "nbconvert_exporter": "python",
   "pygments_lexer": "ipython3",
   "version": "3.8.8"
  },
  "varInspector": {
   "cols": {
    "lenName": 16,
    "lenType": 16,
    "lenVar": 40
   },
   "kernels_config": {
    "python": {
     "delete_cmd_postfix": "",
     "delete_cmd_prefix": "del ",
     "library": "var_list.py",
     "varRefreshCmd": "print(var_dic_list())"
    },
    "r": {
     "delete_cmd_postfix": ") ",
     "delete_cmd_prefix": "rm(",
     "library": "var_list.r",
     "varRefreshCmd": "cat(var_dic_list()) "
    }
   },
   "position": {
    "height": "241.85px",
    "left": "1021px",
    "right": "20px",
    "top": "114px",
    "width": "550px"
   },
   "types_to_exclude": [
    "module",
    "function",
    "builtin_function_or_method",
    "instance",
    "_Feature"
   ],
   "window_display": false
  }
 },
 "nbformat": 4,
 "nbformat_minor": 5
}
