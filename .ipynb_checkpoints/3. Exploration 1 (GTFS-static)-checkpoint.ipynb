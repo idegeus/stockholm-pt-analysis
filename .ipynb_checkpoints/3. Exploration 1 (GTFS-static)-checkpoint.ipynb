{
 "cells": [
  {
   "cell_type": "code",
   "execution_count": 3,
   "id": "a972a957",
   "metadata": {
    "ExecuteTime": {
     "end_time": "2022-05-19T09:42:36.079921Z",
     "start_time": "2022-05-19T09:42:36.074976Z"
    },
    "scrolled": false
   },
   "outputs": [],
   "source": [
    "import gtfs_kit as gk\n",
    "from tqdm.notebook import tqdm\n",
    "from glob import glob\n",
    "import pandas as pd\n",
    "\n",
    "example = './data/0-koda-gtfs-static/2021-06-01.zip'"
   ]
  },
  {
   "cell_type": "code",
   "execution_count": 7,
   "id": "27fd89bb",
   "metadata": {
    "ExecuteTime": {
     "end_time": "2022-05-19T09:44:11.248917Z",
     "start_time": "2022-05-19T09:44:01.219730Z"
    }
   },
   "outputs": [
    {
     "data": {
      "text/html": [
       "<div>\n",
       "<style scoped>\n",
       "    .dataframe tbody tr th:only-of-type {\n",
       "        vertical-align: middle;\n",
       "    }\n",
       "\n",
       "    .dataframe tbody tr th {\n",
       "        vertical-align: top;\n",
       "    }\n",
       "\n",
       "    .dataframe thead th {\n",
       "        text-align: right;\n",
       "    }\n",
       "</style>\n",
       "<table border=\"1\" class=\"dataframe\">\n",
       "  <thead>\n",
       "    <tr style=\"text-align: right;\">\n",
       "      <th></th>\n",
       "      <th>file_name</th>\n",
       "      <th>file_size</th>\n",
       "    </tr>\n",
       "  </thead>\n",
       "  <tbody>\n",
       "    <tr>\n",
       "      <th>0</th>\n",
       "      <td>calendar_dates.txt</td>\n",
       "      <td>757739</td>\n",
       "    </tr>\n",
       "    <tr>\n",
       "      <th>1</th>\n",
       "      <td>feed_info.txt</td>\n",
       "      <td>144</td>\n",
       "    </tr>\n",
       "    <tr>\n",
       "      <th>2</th>\n",
       "      <td>trips.txt</td>\n",
       "      <td>6093564</td>\n",
       "    </tr>\n",
       "    <tr>\n",
       "      <th>3</th>\n",
       "      <td>stops.txt</td>\n",
       "      <td>1415835</td>\n",
       "    </tr>\n",
       "    <tr>\n",
       "      <th>4</th>\n",
       "      <td>shapes.txt</td>\n",
       "      <td>125997174</td>\n",
       "    </tr>\n",
       "    <tr>\n",
       "      <th>5</th>\n",
       "      <td>routes.txt</td>\n",
       "      <td>31194</td>\n",
       "    </tr>\n",
       "    <tr>\n",
       "      <th>6</th>\n",
       "      <td>transfers.txt</td>\n",
       "      <td>1434503</td>\n",
       "    </tr>\n",
       "    <tr>\n",
       "      <th>7</th>\n",
       "      <td>calendar.txt</td>\n",
       "      <td>39376</td>\n",
       "    </tr>\n",
       "    <tr>\n",
       "      <th>8</th>\n",
       "      <td>agency.txt</td>\n",
       "      <td>1278</td>\n",
       "    </tr>\n",
       "    <tr>\n",
       "      <th>9</th>\n",
       "      <td>attributions.txt</td>\n",
       "      <td>3730496</td>\n",
       "    </tr>\n",
       "    <tr>\n",
       "      <th>10</th>\n",
       "      <td>stop_times.txt</td>\n",
       "      <td>221311508</td>\n",
       "    </tr>\n",
       "  </tbody>\n",
       "</table>\n",
       "</div>"
      ],
      "text/plain": [
       "             file_name  file_size\n",
       "0   calendar_dates.txt     757739\n",
       "1        feed_info.txt        144\n",
       "2            trips.txt    6093564\n",
       "3            stops.txt    1415835\n",
       "4           shapes.txt  125997174\n",
       "5           routes.txt      31194\n",
       "6        transfers.txt    1434503\n",
       "7         calendar.txt      39376\n",
       "8           agency.txt       1278\n",
       "9     attributions.txt    3730496\n",
       "10      stop_times.txt  221311508"
      ]
     },
     "execution_count": 7,
     "metadata": {},
     "output_type": "execute_result"
    }
   ],
   "source": [
    "feed = gk.read_feed(example, dist_units='km')\n",
    "gk.list_feed(example)"
   ]
  },
  {
   "cell_type": "markdown",
   "id": "bfa72812",
   "metadata": {},
   "source": [
    "41 42 42x"
   ]
  },
  {
   "cell_type": "code",
   "execution_count": null,
   "id": "469cc1ec",
   "metadata": {
    "ExecuteTime": {
     "start_time": "2022-05-19T09:46:14.884Z"
    }
   },
   "outputs": [],
   "source": [
    "lines = ['41', '42', '42X']\n",
    "LINES_NAME = 'caner-pendeltåg'\n",
    "selected_routes = feed.routes[feed.routes.route_short_name.isin(lines)]"
   ]
  },
  {
   "cell_type": "code",
   "execution_count": null,
   "id": "0df30572",
   "metadata": {
    "ExecuteTime": {
     "start_time": "2022-05-19T09:45:52.078Z"
    }
   },
   "outputs": [
    {
     "data": {
      "application/vnd.jupyter.widget-view+json": {
       "model_id": "168977597cb547fe9636e3dc5d288e49",
       "version_major": 2,
       "version_minor": 0
      },
      "text/plain": [
       "  0%|          | 0/118 [00:00<?, ?it/s]"
      ]
     },
     "metadata": {},
     "output_type": "display_data"
    }
   ],
   "source": [
    "trips_list = []\n",
    "for day in tqdm(glob('./data/0-koda-gtfs-static/*.zip')):\n",
    "    feed = gk.read_feed(day, dist_units='km')\n",
    "    trips_list.append(feed.trips[feed.trips.route_id.isin(selected_routes.route_id)])\n",
    "    del feed"
   ]
  },
  {
   "cell_type": "code",
   "execution_count": null,
   "id": "945cce96",
   "metadata": {
    "ExecuteTime": {
     "start_time": "2022-05-19T09:46:37.977Z"
    }
   },
   "outputs": [],
   "source": [
    "trips_df = pd.concat(trips_list)\n",
    "trips_df = trips_df.drop_duplicates(subset='trip_id')\n",
    "trips_df = trips_df.merge(feed.routes, how='left', on='route_id')\n",
    "trips_df.to_csv(f\"\"\"./data/2-working-data/{LINES_NAME}-trips.csv\"\"\")\n",
    "trips_df"
   ]
  },
  {
   "cell_type": "code",
   "execution_count": null,
   "id": "6655ce34",
   "metadata": {
    "ExecuteTime": {
     "start_time": "2022-05-19T09:47:44.357Z"
    }
   },
   "outputs": [],
   "source": [
    "stops = feed.get_stops(route_ids=set(trips_df.route_id))\n",
    "stops.to_csv(f\"\"\"./data/2-working-data/{LINES_NAME}-stops.csv\"\"\")\n",
    "stops[stops.direction=='2']"
   ]
  },
  {
   "cell_type": "code",
   "execution_count": null,
   "id": "02fc34a8",
   "metadata": {},
   "outputs": [],
   "source": []
  }
 ],
 "metadata": {
  "kernelspec": {
   "display_name": "Python 3",
   "language": "python",
   "name": "python3"
  },
  "language_info": {
   "codemirror_mode": {
    "name": "ipython",
    "version": 3
   },
   "file_extension": ".py",
   "mimetype": "text/x-python",
   "name": "python",
   "nbconvert_exporter": "python",
   "pygments_lexer": "ipython3",
   "version": "3.8.8"
  }
 },
 "nbformat": 4,
 "nbformat_minor": 5
}
