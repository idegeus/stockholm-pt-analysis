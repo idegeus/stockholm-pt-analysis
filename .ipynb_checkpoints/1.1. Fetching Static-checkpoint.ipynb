{
 "cells": [
  {
   "cell_type": "code",
   "execution_count": null,
   "id": "48234161",
   "metadata": {},
   "outputs": [],
   "source": [
    "!pip install tqdm --quiet"
   ]
  },
  {
   "cell_type": "code",
   "execution_count": 1,
   "id": "49987ee4",
   "metadata": {},
   "outputs": [
    {
     "name": "stdout",
     "output_type": "stream",
     "text": [
      "92\n"
     ]
    },
    {
     "data": {
      "text/plain": [
       "['2021-12-22',\n",
       " '2021-12-23',\n",
       " '2021-12-24',\n",
       " '2021-12-25',\n",
       " '2021-12-26',\n",
       " '2021-12-27',\n",
       " '2021-12-28',\n",
       " '2021-12-29',\n",
       " '2021-12-30',\n",
       " '2021-12-31']"
      ]
     },
     "execution_count": 1,
     "metadata": {},
     "output_type": "execute_result"
    }
   ],
   "source": [
    "import requests\n",
    "from tqdm.notebook import tqdm\n",
    "import os.path\n",
    "from calendar import monthrange\n",
    "import time\n",
    "\n",
    "API_KEY = \"FpIG19BfekWUFWGPhb5Nl_zIMPA7Z7gI7ZQ1DESEGkk\"\n",
    "# API_KEY = \"zw_mUBWe3F72OcpgY1j2FjnVQMULgW52uOJzvvdxT6A\"\n",
    "\n",
    "# Note the months to fetch and generate dates\n",
    "months = [10, 11, 12]\n",
    "dates = [f\"\"\"2021-{month:02}-{(day+1):02}\"\"\" for month in months for day in range(monthrange(2022, month)[1])]\n",
    "\n",
    "# Show last 10 days to fetch\n",
    "print(len(dates))\n",
    "dates[-10:]"
   ]
  },
  {
   "cell_type": "code",
   "execution_count": null,
   "id": "93133d90",
   "metadata": {
    "scrolled": false
   },
   "outputs": [
    {
     "data": {
      "application/vnd.jupyter.widget-view+json": {
       "model_id": "4c49c6010ce746239b6cfca55e6807b4",
       "version_major": 2,
       "version_minor": 0
      },
      "text/plain": [
       "  0%|          | 0/92 [00:00<?, ?it/s]"
      ]
     },
     "metadata": {},
     "output_type": "display_data"
    }
   ],
   "source": [
    "# Downloading static daily historical data.\n",
    "headers = {'accept': 'application/octet-stream'}\n",
    "\n",
    "# Loop over all days from 1 to 26 (last one is not included)\n",
    "for date in tqdm(dates):\n",
    "\n",
    "    # Create parameter dictionary including key for this iteration\n",
    "    params = {\n",
    "        'date': date,\n",
    "        'key': API_KEY,\n",
    "    }\n",
    "\n",
    "    # Construct filename and output path.\n",
    "    # If file is already downloaded, we skip this iteration.\n",
    "    file_path = f\"\"\"./data/0-koda-gtfs-static/{params['date']}.zip\"\"\"\n",
    "    if os.path.exists(file_path):\n",
    "        print(date + \" exists.\")\n",
    "        continue;\n",
    "\n",
    "    # Fetch actual response\n",
    "    response = requests.get('https://api.koda.trafiklab.se/KoDa/api/v2/gtfs-static/sl', \n",
    "                            params=params, headers=headers)\n",
    "\n",
    "    # If status code is 200 (HTTP OK), save file. \n",
    "    if str(response.status_code) == \"200\":\n",
    "        with open(file_path, 'wb') as file:\n",
    "            file.write(response.content)"
   ]
  },
  {
   "cell_type": "code",
   "execution_count": null,
   "id": "5c044b2e",
   "metadata": {},
   "outputs": [],
   "source": []
  }
 ],
 "metadata": {
  "kernelspec": {
   "display_name": "Python 3",
   "language": "python",
   "name": "python3"
  },
  "language_info": {
   "codemirror_mode": {
    "name": "ipython",
    "version": 3
   },
   "file_extension": ".py",
   "mimetype": "text/x-python",
   "name": "python",
   "nbconvert_exporter": "python",
   "pygments_lexer": "ipython3",
   "version": "3.8.8"
  }
 },
 "nbformat": 4,
 "nbformat_minor": 5
}
