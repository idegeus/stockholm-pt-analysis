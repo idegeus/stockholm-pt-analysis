{
 "cells": [
  {
   "cell_type": "code",
   "execution_count": 1,
   "id": "48234161",
   "metadata": {},
   "outputs": [],
   "source": [
    "!pip install tqdm --quiet"
   ]
  },
  {
   "cell_type": "code",
   "execution_count": 2,
   "id": "49987ee4",
   "metadata": {},
   "outputs": [
    {
     "name": "stdout",
     "output_type": "stream",
     "text": [
      "92\n"
     ]
    },
    {
     "data": {
      "text/plain": [
       "['2021-12-22',\n",
       " '2021-12-23',\n",
       " '2021-12-24',\n",
       " '2021-12-25',\n",
       " '2021-12-26',\n",
       " '2021-12-27',\n",
       " '2021-12-28',\n",
       " '2021-12-29',\n",
       " '2021-12-30',\n",
       " '2021-12-31']"
      ]
     },
     "execution_count": 2,
     "metadata": {},
     "output_type": "execute_result"
    }
   ],
   "source": [
    "import requests\n",
    "from tqdm.notebook import tqdm\n",
    "import os.path\n",
    "from calendar import monthrange\n",
    "import time\n",
    "\n",
    "API_KEY = \"FpIG19BfekWUFWGPhb5Nl_zIMPA7Z7gI7ZQ1DESEGkk\"\n",
    "# API_KEY = \"zw_mUBWe3F72OcpgY1j2FjnVQMULgW52uOJzvvdxT6A\"\n",
    "\n",
    "# Note the months to fetch and generate dates\n",
    "months = [10, 11, 12]\n",
    "dates = [f\"\"\"2021-{month:02}-{(day+1):02}\"\"\" for month in months for day in range(monthrange(2022, month)[1])]\n",
    "\n",
    "# Show last 10 days to fetch\n",
    "print(len(dates))\n",
    "dates[-10:]"
   ]
  },
  {
   "cell_type": "code",
   "execution_count": 5,
   "id": "5c59c0eb",
   "metadata": {
    "scrolled": false
   },
   "outputs": [
    {
     "data": {
      "application/vnd.jupyter.widget-view+json": {
       "model_id": "665f2814eb714a519c56429d2f4c12fa",
       "version_major": 2,
       "version_minor": 0
      },
      "text/plain": [
       "  0%|          | 0/92 [00:00<?, ?it/s]"
      ]
     },
     "metadata": {},
     "output_type": "display_data"
    },
    {
     "name": "stdout",
     "output_type": "stream",
     "text": [
      "2021-10-01 TU Exists\n",
      "2021-10-01 VP Exists\n",
      "2021-10-02 TU Exists\n",
      "2021-10-02 VP Exists\n",
      "2021-10-03 TU Exists\n",
      "2021-10-03 VP Exists\n",
      "2021-10-04 TU Exists\n",
      "<class 'int'> 200\n"
     ]
    },
    {
     "ename": "NameError",
     "evalue": "name 'response_tu' is not defined",
     "output_type": "error",
     "traceback": [
      "\u001b[0;31m---------------------------------------------------------------------------\u001b[0m",
      "\u001b[0;31mNameError\u001b[0m                                 Traceback (most recent call last)",
      "\u001b[0;32m<ipython-input-5-890b7b123f13>\u001b[0m in \u001b[0;36m<module>\u001b[0;34m\u001b[0m\n\u001b[1;32m     50\u001b[0m             \u001b[0mprint\u001b[0m\u001b[0;34m(\u001b[0m\u001b[0mtype\u001b[0m\u001b[0;34m(\u001b[0m\u001b[0mresponse_vp\u001b[0m\u001b[0;34m.\u001b[0m\u001b[0mstatus_code\u001b[0m\u001b[0;34m)\u001b[0m\u001b[0;34m,\u001b[0m \u001b[0mresponse_vp\u001b[0m\u001b[0;34m.\u001b[0m\u001b[0mstatus_code\u001b[0m\u001b[0;34m)\u001b[0m\u001b[0;34m\u001b[0m\u001b[0;34m\u001b[0m\u001b[0m\n\u001b[1;32m     51\u001b[0m \u001b[0;34m\u001b[0m\u001b[0m\n\u001b[0;32m---> 52\u001b[0;31m             \u001b[0;32mif\u001b[0m \u001b[0mresponse_tu\u001b[0m\u001b[0;34m.\u001b[0m\u001b[0mstatus_code\u001b[0m \u001b[0;34m!=\u001b[0m \u001b[0;36m200\u001b[0m\u001b[0;34m:\u001b[0m\u001b[0;34m\u001b[0m\u001b[0;34m\u001b[0m\u001b[0m\n\u001b[0m\u001b[1;32m     53\u001b[0m                 \u001b[0mprint\u001b[0m\u001b[0;34m(\u001b[0m\u001b[0mdate\u001b[0m \u001b[0;34m+\u001b[0m \u001b[0;34m\"VP: Sleeping and trying again\"\u001b[0m\u001b[0;34m)\u001b[0m\u001b[0;34m\u001b[0m\u001b[0;34m\u001b[0m\u001b[0m\n\u001b[1;32m     54\u001b[0m                 \u001b[0mtime\u001b[0m\u001b[0;34m.\u001b[0m\u001b[0msleep\u001b[0m\u001b[0;34m(\u001b[0m\u001b[0;36m10\u001b[0m\u001b[0;34m)\u001b[0m\u001b[0;34m\u001b[0m\u001b[0;34m\u001b[0m\u001b[0m\n",
      "\u001b[0;31mNameError\u001b[0m: name 'response_tu' is not defined"
     ]
    }
   ],
   "source": [
    "# Downloading real-time historical data.\n",
    "!mkdir -p ./data/0-koda-gtfs-rt/vp/\n",
    "!mkdir -p ./data/0-koda-gtfs-rt/tu/\n",
    "# !open ./data/0-koda-gtfs-rt/tu/\n",
    "\n",
    "headers = {'accept': 'application/octet-stream'}\n",
    "iterator = tqdm(dates)\n",
    "for date in iterator:\n",
    "    iterator.set_description(\"Processing %s\" % date)\n",
    "\n",
    "    # Create parameter dictionary including key for this iteration\n",
    "    params = {'date': date, 'key': API_KEY}\n",
    "\n",
    "    # Construct filename and output path.\n",
    "    # If files are already downloaded, we skip this iteration.\n",
    "    file_path_vp = f\"\"\"./data/0-koda-gtfs-rt/vp/{params['date']}.7z\"\"\"\n",
    "    file_path_tu = f\"\"\"./data/0-koda-gtfs-rt/tu/{params['date']}.7z\"\"\"\n",
    "\n",
    "    # Trip Updates\n",
    "    if os.path.exists(file_path_tu):\n",
    "        print(date+\" TU Exists\")\n",
    "    else:\n",
    "        received = False\n",
    "        while received == False:\n",
    "\n",
    "            response_tu = requests.get('https://api.koda.trafiklab.se/KoDa/api/v2/gtfs-rt/sl/TripUpdates', \n",
    "                            params=params, headers=headers)\n",
    "            print(type(response_tu.status_code), response_tu.status_code)\n",
    "\n",
    "            if response_tu.status_code != 200:\n",
    "                print(date + \" TU: Sleeping and trying again\")\n",
    "                time.sleep(10)\n",
    "                \n",
    "            if response_tu.status_code == 200: \n",
    "                received = True\n",
    "                print(date + \"TU: Fetching \")\n",
    "                with open(file_path_tu, 'wb') as file:\n",
    "                    file.write(response_tu.content)\n",
    "\n",
    "\n",
    "    # Vehicle Positions\n",
    "    if os.path.exists(file_path_vp):\n",
    "        print(date+\" VP Exists\")\n",
    "    else:\n",
    "        received = False\n",
    "        while received == False:\n",
    "\n",
    "            response_vp = requests.get('https://api.koda.trafiklab.se/KoDa/api/v2/gtfs-rt/sl/VehiclePositions', \n",
    "                                    params=params, headers=headers)\n",
    "            print(type(response_vp.status_code), response_vp.status_code)\n",
    "\n",
    "            if response_tu.status_code != 200:\n",
    "                print(date + \"VP: Sleeping and trying again\")\n",
    "                time.sleep(10)\n",
    "\n",
    "            if response_vp.status_code == 200:\n",
    "                received = True\n",
    "                print(date + \" VP: Fetching\")\n",
    "                with open(file_path_vp, 'wb') as file:\n",
    "                    file.write(response_vp.content)"
   ]
  },
  {
   "cell_type": "code",
   "execution_count": null,
   "id": "d05485c9",
   "metadata": {},
   "outputs": [],
   "source": []
  }
 ],
 "metadata": {
  "kernelspec": {
   "display_name": "Python 3",
   "language": "python",
   "name": "python3"
  },
  "language_info": {
   "codemirror_mode": {
    "name": "ipython",
    "version": 3
   },
   "file_extension": ".py",
   "mimetype": "text/x-python",
   "name": "python",
   "nbconvert_exporter": "python",
   "pygments_lexer": "ipython3",
   "version": "3.8.8"
  }
 },
 "nbformat": 4,
 "nbformat_minor": 5
}
