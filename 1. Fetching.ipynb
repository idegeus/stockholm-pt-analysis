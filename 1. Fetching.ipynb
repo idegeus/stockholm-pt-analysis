{
 "cells": [
  {
   "cell_type": "code",
   "execution_count": 1,
   "id": "48234161",
   "metadata": {
    "ExecuteTime": {
     "end_time": "2022-05-14T14:35:50.042760Z",
     "start_time": "2022-05-14T14:35:47.587472Z"
    }
   },
   "outputs": [],
   "source": [
    "!pip install tqdm --quiet"
   ]
  },
  {
   "cell_type": "code",
   "execution_count": 20,
   "id": "49987ee4",
   "metadata": {
    "ExecuteTime": {
     "end_time": "2022-05-15T10:49:48.206841Z",
     "start_time": "2022-05-15T10:49:48.193712Z"
    }
   },
   "outputs": [
    {
     "name": "stdout",
     "output_type": "stream",
     "text": [
      "153\n"
     ]
    },
    {
     "data": {
      "text/plain": [
       "['2021-12-22',\n",
       " '2021-12-23',\n",
       " '2021-12-24',\n",
       " '2021-12-25',\n",
       " '2021-12-26',\n",
       " '2021-12-27',\n",
       " '2021-12-28',\n",
       " '2021-12-29',\n",
       " '2021-12-30',\n",
       " '2021-12-31']"
      ]
     },
     "execution_count": 20,
     "metadata": {},
     "output_type": "execute_result"
    }
   ],
   "source": [
    "import requests\n",
    "from tqdm.notebook import tqdm\n",
    "import os.path\n",
    "from calendar import monthrange\n",
    "import time\n",
    "\n",
    "# API_KEY = \"FpIG19BfekWUFWGPhb5Nl_zIMPA7Z7gI7ZQ1DESEGkk\"\n",
    "API_KEY = \"zw_mUBWe3F72OcpgY1j2FjnVQMULgW52uOJzvvdxT6A\"\n",
    "\n",
    "# Note the months to fetch and generate dates\n",
    "months = [6, 7, 10, 11, 12]\n",
    "dates = [f\"\"\"2021-{month:02}-{(day+1):02}\"\"\" for month in months for day in range(monthrange(2022, month)[1])]\n",
    "\n",
    "# Show last 10 days to fetch\n",
    "print(len(dates))\n",
    "dates[-10:]"
   ]
  },
  {
   "cell_type": "code",
   "execution_count": null,
   "id": "5c59c0eb",
   "metadata": {
    "ExecuteTime": {
     "start_time": "2022-05-15T10:49:48.710Z"
    },
    "scrolled": false
   },
   "outputs": [
    {
     "data": {
      "application/vnd.jupyter.widget-view+json": {
       "model_id": "ab6575fd3fba452888349479521ca379",
       "version_major": 2,
       "version_minor": 0
      },
      "text/plain": [
       "  0%|          | 0/153 [00:00<?, ?it/s]"
      ]
     },
     "metadata": {},
     "output_type": "display_data"
    },
    {
     "name": "stdout",
     "output_type": "stream",
     "text": [
      "<class 'int'> 200\n",
      "2021-06-01VP: Does not exist, skipping\n",
      "<class 'int'> 200\n",
      "2021-06-01 VP: Fetching\n",
      "<class 'int'> 200\n",
      "2021-06-02TU: Fetching \n",
      "<class 'int'> 200\n",
      "2021-06-02 VP: Fetching\n",
      "<class 'int'> 200\n",
      "2021-06-03TU: Fetching \n",
      "<class 'int'> 200\n",
      "2021-06-03 VP: Fetching\n",
      "<class 'int'> 200\n",
      "2021-06-04TU: Fetching \n",
      "<class 'int'> 200\n",
      "2021-06-04 VP: Fetching\n",
      "<class 'int'> 200\n",
      "2021-06-05TU: Fetching \n",
      "<class 'int'> 200\n",
      "2021-06-05 VP: Fetching\n",
      "<class 'int'> 200\n",
      "2021-06-06TU: Fetching \n",
      "<class 'int'> 200\n",
      "2021-06-06 VP: Fetching\n",
      "<class 'int'> 200\n",
      "2021-06-07TU: Fetching \n",
      "<class 'int'> 200\n",
      "2021-06-07 VP: Fetching\n",
      "<class 'int'> 200\n",
      "2021-06-08TU: Fetching \n",
      "<class 'int'> 200\n",
      "2021-06-08 VP: Fetching\n",
      "<class 'int'> 200\n",
      "2021-06-09TU: Fetching \n",
      "<class 'int'> 200\n",
      "2021-06-09 VP: Fetching\n",
      "<class 'int'> 200\n",
      "2021-06-10TU: Fetching \n",
      "<class 'int'> 200\n",
      "2021-06-10 VP: Fetching\n",
      "<class 'int'> 200\n",
      "2021-06-11TU: Fetching \n",
      "<class 'int'> 200\n",
      "2021-06-11 VP: Fetching\n",
      "<class 'int'> 200\n",
      "2021-06-12TU: Fetching \n",
      "<class 'int'> 200\n",
      "2021-06-12 VP: Fetching\n",
      "<class 'int'> 200\n",
      "2021-06-13TU: Fetching \n",
      "<class 'int'> 200\n",
      "2021-06-13 VP: Fetching\n",
      "<class 'int'> 200\n",
      "2021-06-14TU: Fetching \n",
      "<class 'int'> 200\n",
      "2021-06-14 VP: Fetching\n",
      "<class 'int'> 200\n",
      "2021-06-15TU: Fetching \n",
      "<class 'int'> 200\n",
      "2021-06-15 VP: Fetching\n",
      "<class 'int'> 200\n",
      "2021-06-16TU: Fetching \n",
      "<class 'int'> 200\n",
      "2021-06-16 VP: Fetching\n",
      "<class 'int'> 200\n",
      "2021-06-17TU: Fetching \n",
      "<class 'int'> 200\n",
      "2021-06-17 VP: Fetching\n",
      "<class 'int'> 200\n",
      "2021-06-18TU: Fetching \n",
      "<class 'int'> 200\n",
      "2021-06-18 VP: Fetching\n",
      "<class 'int'> 200\n",
      "2021-06-19TU: Fetching \n",
      "<class 'int'> 200\n",
      "2021-06-19 VP: Fetching\n",
      "<class 'int'> 200\n",
      "2021-06-20TU: Fetching \n",
      "<class 'int'> 200\n",
      "2021-06-20 VP: Fetching\n",
      "<class 'int'> 200\n",
      "2021-06-21TU: Fetching \n",
      "<class 'int'> 200\n",
      "2021-06-21 VP: Fetching\n",
      "<class 'int'> 200\n",
      "2021-06-22TU: Fetching \n",
      "<class 'int'> 200\n",
      "2021-06-22 VP: Fetching\n",
      "<class 'int'> 200\n",
      "2021-06-23TU: Fetching \n",
      "<class 'int'> 200\n",
      "2021-06-23 VP: Fetching\n",
      "<class 'int'> 200\n",
      "2021-06-24TU: Fetching \n"
     ]
    }
   ],
   "source": [
    "# Downloading real-time historical data.\n",
    "!mkdir -p ./data/0-koda-gtfs-rt/vp/\n",
    "!mkdir -p ./data/0-koda-gtfs-rt/tu/\n",
    "# !open ./data/0-koda-gtfs-rt/tu/\n",
    "\n",
    "headers = {'accept': 'application/octet-stream'}\n",
    "iterator = tqdm(dates)\n",
    "for date in iterator:\n",
    "    iterator.set_description(\"Processing %s\" % date)\n",
    "\n",
    "    # Create parameter dictionary including key for this iteration\n",
    "    params = {'date': date, 'key': API_KEY}\n",
    "\n",
    "    # Construct filename and output path.\n",
    "    # If files are already downloaded, we skip this iteration.\n",
    "    file_path_vp = f\"\"\"./data/0-koda-gtfs-rt/vp/{params['date']}.7z\"\"\"\n",
    "    file_path_tu = f\"\"\"./data/0-koda-gtfs-rt/tu/{params['date']}.7z\"\"\"\n",
    "\n",
    "    # Trip Updates\n",
    "    if os.path.exists(file_path_tu):\n",
    "        print(date+\" TU Exists\")\n",
    "    else:\n",
    "        received = False\n",
    "        while received == False:\n",
    "\n",
    "            response_tu = requests.get('https://api.koda.trafiklab.se/KoDa/api/v2/gtfs-rt/sl/TripUpdates', \n",
    "                            params=params, headers=headers)\n",
    "            print(type(response_tu.status_code), response_tu.status_code)\n",
    "\n",
    "            if response_vp.status_code == 400:\n",
    "                print(date + \"VP: Does not exist, skipping\")\n",
    "                received=True\n",
    "                continue;\n",
    "                \n",
    "            if response_tu.status_code != 200:\n",
    "                print(date + \" TU: Sleeping and trying again\")\n",
    "                time.sleep(10)\n",
    "                \n",
    "            if response_tu.status_code == 200: \n",
    "                received = True\n",
    "                print(date + \"TU: Fetching \")\n",
    "                with open(file_path_tu, 'wb') as file:\n",
    "                    file.write(response_tu.content)\n",
    "\n",
    "\n",
    "    # Vehicle Positions\n",
    "    if os.path.exists(file_path_vp):\n",
    "        print(date+\" VP Exists\")\n",
    "    else:\n",
    "        received = False\n",
    "        while received == False:\n",
    "\n",
    "            response_vp = requests.get('https://api.koda.trafiklab.se/KoDa/api/v2/gtfs-rt/sl/VehiclePositions', \n",
    "                                    params=params, headers=headers)\n",
    "            print(type(response_vp.status_code), response_vp.status_code)\n",
    "\n",
    "            if response_vp.status_code == 400:\n",
    "                print(date + \"VP: Does not exist, skipping\")\n",
    "                received=True\n",
    "                continue;\n",
    "                \n",
    "            if response_vp.status_code != 200:\n",
    "                print(date + \"VP: Sleeping and trying again\")\n",
    "                time.sleep(10)\n",
    "\n",
    "            if response_vp.status_code == 200:\n",
    "                received = True\n",
    "                print(date + \" VP: Fetching\")\n",
    "                with open(file_path_vp, 'wb') as file:\n",
    "                    file.write(response_vp.content)"
   ]
  },
  {
   "cell_type": "code",
   "execution_count": null,
   "id": "ab2d13e1",
   "metadata": {},
   "outputs": [],
   "source": []
  }
 ],
 "metadata": {
  "kernelspec": {
   "display_name": "Python 3",
   "language": "python",
   "name": "python3"
  },
  "language_info": {
   "codemirror_mode": {
    "name": "ipython",
    "version": 3
   },
   "file_extension": ".py",
   "mimetype": "text/x-python",
   "name": "python",
   "nbconvert_exporter": "python",
   "pygments_lexer": "ipython3",
   "version": "3.8.8"
  },
  "varInspector": {
   "cols": {
    "lenName": 16,
    "lenType": 16,
    "lenVar": 40
   },
   "kernels_config": {
    "python": {
     "delete_cmd_postfix": "",
     "delete_cmd_prefix": "del ",
     "library": "var_list.py",
     "varRefreshCmd": "print(var_dic_list())"
    },
    "r": {
     "delete_cmd_postfix": ") ",
     "delete_cmd_prefix": "rm(",
     "library": "var_list.r",
     "varRefreshCmd": "cat(var_dic_list()) "
    }
   },
   "types_to_exclude": [
    "module",
    "function",
    "builtin_function_or_method",
    "instance",
    "_Feature"
   ],
   "window_display": false
  }
 },
 "nbformat": 4,
 "nbformat_minor": 5
}
