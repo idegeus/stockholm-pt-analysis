{
 "cells": [
  {
   "cell_type": "code",
   "execution_count": 12,
   "id": "48234161",
   "metadata": {},
   "outputs": [
    {
     "name": "stdout",
     "output_type": "stream",
     "text": [
      "Requirement already satisfied: tqdm in /Users/ivo/opt/anaconda3/lib/python3.8/site-packages (4.59.0)\r\n"
     ]
    }
   ],
   "source": [
    "!pip install tqdm"
   ]
  },
  {
   "cell_type": "code",
   "execution_count": 15,
   "id": "49987ee4",
   "metadata": {},
   "outputs": [],
   "source": [
    "import requests\n",
    "from tqdm.notebook import tqdm\n",
    "import os.path\n",
    "from calendar import monthrange\n",
    "import time\n",
    "\n",
    "API_KEY = \"\""
   ]
  },
  {
   "cell_type": "code",
   "execution_count": 11,
   "id": "778c4300",
   "metadata": {
    "scrolled": true
   },
   "outputs": [
    {
     "name": "stdout",
     "output_type": "stream",
     "text": [
      "61\n"
     ]
    },
    {
     "data": {
      "text/plain": [
       "['2022-04-20',\n",
       " '2022-04-21',\n",
       " '2022-04-22',\n",
       " '2022-04-23',\n",
       " '2022-04-24',\n",
       " '2022-04-25',\n",
       " '2022-04-26',\n",
       " '2022-04-27',\n",
       " '2022-04-28',\n",
       " '2022-04-29']"
      ]
     },
     "execution_count": 11,
     "metadata": {},
     "output_type": "execute_result"
    }
   ],
   "source": [
    "# Note the months to fetch and generate dates\n",
    "months = [3, 4]\n",
    "dates = [f\"\"\"2022-{month:02}-{day:02}\"\"\" for month in months for day in range(monthrange(2022, month)[1])]\n",
    "\n",
    "# Show last 10 days to fetch\n",
    "print(len(dates))\n",
    "dates[-10:]"
   ]
  },
  {
   "cell_type": "code",
   "execution_count": null,
   "id": "5c59c0eb",
   "metadata": {
    "scrolled": false
   },
   "outputs": [
    {
     "data": {
      "application/vnd.jupyter.widget-view+json": {
       "model_id": "240fb10facb246a5a0aec988ca5a4b7c",
       "version_major": 2,
       "version_minor": 0
      },
      "text/plain": [
       "  0%|          | 0/61 [00:00<?, ?it/s]"
      ]
     },
     "metadata": {},
     "output_type": "display_data"
    }
   ],
   "source": [
    "# Downloading real-time historical data.\n",
    "!mkdir -p data/0-koda-gtfs-rt\n",
    "\n",
    "headers = {'accept': 'application/octet-stream'}\n",
    "\n",
    "# Loop over all days\n",
    "def fetch_rt_files(): \n",
    "    for date in tqdm(dates):\n",
    "\n",
    "        # Create parameter dictionary including key for this iteration\n",
    "        params = {\n",
    "            'date': date,\n",
    "            'key': API_KEY,\n",
    "        }\n",
    "\n",
    "        # Construct filename and output path.\n",
    "        # If file is already downloaded, we skip this iteration.\n",
    "        file_path = f\"\"\"./data/0-koda-gtfs-rt/{params['date']}.7z\"\"\"\n",
    "        if os.path.exists(file_path):\n",
    "            continue;\n",
    "\n",
    "        # Fetch actual response\n",
    "        response = requests.get('https://api.koda.trafiklab.se/KoDa/api/v2/gtfs-rt/sl/VehiclePositions', \n",
    "                                params=params, headers=headers)\n",
    "\n",
    "        # If status code is 200 (HTTP OK), save file. \n",
    "        if str(response.status_code) == \"200\":\n",
    "            with open(file_path, 'wb') as file:\n",
    "                file.write(response.content)\n",
    "      \n",
    "# Execute requests, and wait for a moment to request generated files again.\n",
    "fetch_rt_files()\n",
    "time.sleep(60)\n",
    "fetch_rt_files()"
   ]
  },
  {
   "cell_type": "code",
   "execution_count": 35,
   "id": "93133d90",
   "metadata": {
    "scrolled": false
   },
   "outputs": [
    {
     "data": {
      "application/vnd.jupyter.widget-view+json": {
       "model_id": "9cccf6fb1c704d44a1131ed325184eb1",
       "version_major": 2,
       "version_minor": 0
      },
      "text/plain": [
       "  0%|          | 0/30 [00:00<?, ?it/s]"
      ]
     },
     "metadata": {},
     "output_type": "display_data"
    }
   ],
   "source": [
    "# Downloading static daily historical data.\n",
    "!mkdir -p data/0-koda-gtfs-static\n",
    "\n",
    "headers = {'accept': 'application/octet-stream'}\n",
    "\n",
    "# Loop over all days\n",
    "def fetch_static_files(): \n",
    "    # Loop over all days from 1 to 26 (last one is not included)\n",
    "    for date in tqdm(dates):\n",
    "\n",
    "        # Create parameter dictionary including key for this iteration\n",
    "        params = {\n",
    "            'date': date,\n",
    "            'key': API_KEY,\n",
    "        }\n",
    "\n",
    "        # Construct filename and output path.\n",
    "        # If file is already downloaded, we skip this iteration.\n",
    "        file_path = f\"\"\"./data/0-koda-gtfs-static/{params['date']}.zip\"\"\"\n",
    "        if os.path.exists(file_path):\n",
    "            continue;\n",
    "\n",
    "        # Fetch actual response\n",
    "        response = requests.get('https://api.koda.trafiklab.se/KoDa/api/v2/gtfs-static/sl', \n",
    "                                params=params, headers=headers)\n",
    "\n",
    "        # If status code is 200 (HTTP OK), save file. \n",
    "        if str(response.status_code) == \"200\":\n",
    "            with open(file_path, 'wb') as file:\n",
    "                file.write(response.content)\n",
    "\n",
    "\n",
    "fetch_static_files()\n",
    "time.sleep(60)\n",
    "fetch_static_files()"
   ]
  }
 ],
 "metadata": {
  "kernelspec": {
   "display_name": "Python 3",
   "language": "python",
   "name": "python3"
  },
  "language_info": {
   "codemirror_mode": {
    "name": "ipython",
    "version": 3
   },
   "file_extension": ".py",
   "mimetype": "text/x-python",
   "name": "python",
   "nbconvert_exporter": "python",
   "pygments_lexer": "ipython3",
   "version": "3.8.8"
  }
 },
 "nbformat": 4,
 "nbformat_minor": 5
}
