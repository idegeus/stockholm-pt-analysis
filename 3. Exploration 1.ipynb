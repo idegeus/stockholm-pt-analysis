{
 "cells": [
  {
   "cell_type": "code",
   "execution_count": 1,
   "id": "c15d8930",
   "metadata": {},
   "outputs": [
    {
     "name": "stdout",
     "output_type": "stream",
     "text": [
      "Requirement already satisfied: gtfs-realtime-bindings in /Users/ivo/opt/anaconda3/lib/python3.8/site-packages (0.0.7)\n",
      "Requirement already satisfied: protobuf in /Users/ivo/opt/anaconda3/lib/python3.8/site-packages (from gtfs-realtime-bindings) (3.20.1)\n",
      "Requirement already satisfied: setuptools in /Users/ivo/opt/anaconda3/lib/python3.8/site-packages (from gtfs-realtime-bindings) (52.0.0.post20210125)\n"
     ]
    }
   ],
   "source": [
    "!pip install --upgrade gtfs-realtime-bindings --quiet"
   ]
  },
  {
   "cell_type": "code",
   "execution_count": 2,
   "id": "b0eb21d2",
   "metadata": {},
   "outputs": [],
   "source": [
    "from google.transit import gtfs_realtime_pb2"
   ]
  },
  {
   "cell_type": "code",
   "execution_count": 3,
   "id": "3c98af92",
   "metadata": {},
   "outputs": [
    {
     "ename": "SyntaxError",
     "evalue": "Missing parentheses in call to 'print'. Did you mean print(entity.trip_update)? (<ipython-input-3-cbe505603dd8>, line 7)",
     "output_type": "error",
     "traceback": [
      "\u001b[0;36m  File \u001b[0;32m\"<ipython-input-3-cbe505603dd8>\"\u001b[0;36m, line \u001b[0;32m7\u001b[0m\n\u001b[0;31m    print entity.trip_update\u001b[0m\n\u001b[0m          ^\u001b[0m\n\u001b[0;31mSyntaxError\u001b[0m\u001b[0;31m:\u001b[0m Missing parentheses in call to 'print'. Did you mean print(entity.trip_update)?\n"
     ]
    }
   ],
   "source": [
    "with open(filename, 'r') as file:\n",
    "    feed = file.read()\n",
    "\n",
    "feed.ParseFromString(response.read())\n",
    "for entity in feed.entity:\n",
    "    if entity.HasField('trip_update'):\n",
    "        print entity.trip_update"
   ]
  },
  {
   "cell_type": "code",
   "execution_count": null,
   "id": "9bb2aa35",
   "metadata": {},
   "outputs": [],
   "source": []
  }
 ],
 "metadata": {
  "kernelspec": {
   "display_name": "Python 3",
   "language": "python",
   "name": "python3"
  },
  "language_info": {
   "codemirror_mode": {
    "name": "ipython",
    "version": 3
   },
   "file_extension": ".py",
   "mimetype": "text/x-python",
   "name": "python",
   "nbconvert_exporter": "python",
   "pygments_lexer": "ipython3",
   "version": "3.8.8"
  }
 },
 "nbformat": 4,
 "nbformat_minor": 5
}
