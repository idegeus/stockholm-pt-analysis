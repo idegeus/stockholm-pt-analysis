{
 "cells": [
  {
   "cell_type": "code",
   "execution_count": null,
   "id": "5efa33b9",
   "metadata": {
    "scrolled": true
   },
   "outputs": [],
   "source": [
    "!pip install gtfs-realtime-bindings geopandas contextily"
   ]
  },
  {
   "cell_type": "code",
   "execution_count": 2,
   "id": "b2368a79",
   "metadata": {},
   "outputs": [],
   "source": [
    "from google.transit import gtfs_realtime_pb2\n",
    "import pandas as pd\n",
    "import geopandas as gpd\n",
    "from shapely.geometry import Point\n",
    "import contextily as cx\n",
    "import matplotlib.pyplot as plt\n",
    "from glob import glob\n",
    "from tqdm.notebook import tqdm"
   ]
  },
  {
   "cell_type": "code",
   "execution_count": 4,
   "id": "36097517",
   "metadata": {},
   "outputs": [
    {
     "ename": "FileNotFoundError",
     "evalue": "[Errno 2] No such file or directory: './data/1-koda-gtfs-rt-extracted/2021-04-01/sl/VehiclePositions/2021/04/01/18/sl-vehiclepositions-2021-04-01T18-00-01Z.pb'",
     "output_type": "error",
     "traceback": [
      "\u001b[0;31m---------------------------------------------------------------------------\u001b[0m",
      "\u001b[0;31mFileNotFoundError\u001b[0m                         Traceback (most recent call last)",
      "\u001b[0;32m<ipython-input-4-6c67c235febc>\u001b[0m in \u001b[0;36m<module>\u001b[0;34m\u001b[0m\n\u001b[1;32m      1\u001b[0m \u001b[0mfilename\u001b[0m \u001b[0;34m=\u001b[0m \u001b[0;34m\"./data/1-koda-gtfs-rt-extracted/2021-04-01/sl/VehiclePositions/2021/04/01/18/sl-vehiclepositions-2021-04-01T18-00-01Z.pb\"\u001b[0m\u001b[0;34m\u001b[0m\u001b[0;34m\u001b[0m\u001b[0m\n\u001b[1;32m      2\u001b[0m \u001b[0;34m\u001b[0m\u001b[0m\n\u001b[0;32m----> 3\u001b[0;31m \u001b[0mresponse\u001b[0m \u001b[0;34m=\u001b[0m \u001b[0mopen\u001b[0m\u001b[0;34m(\u001b[0m\u001b[0mfilename\u001b[0m\u001b[0;34m,\u001b[0m \u001b[0;34m'rb'\u001b[0m\u001b[0;34m)\u001b[0m\u001b[0;34m\u001b[0m\u001b[0;34m\u001b[0m\u001b[0m\n\u001b[0m\u001b[1;32m      4\u001b[0m \u001b[0mfeed\u001b[0m \u001b[0;34m=\u001b[0m \u001b[0mgtfs_realtime_pb2\u001b[0m\u001b[0;34m.\u001b[0m\u001b[0mFeedMessage\u001b[0m\u001b[0;34m(\u001b[0m\u001b[0;34m)\u001b[0m\u001b[0;34m\u001b[0m\u001b[0;34m\u001b[0m\u001b[0m\n\u001b[1;32m      5\u001b[0m \u001b[0mfeed\u001b[0m\u001b[0;34m.\u001b[0m\u001b[0mParseFromString\u001b[0m\u001b[0;34m(\u001b[0m\u001b[0mresponse\u001b[0m\u001b[0;34m.\u001b[0m\u001b[0mread\u001b[0m\u001b[0;34m(\u001b[0m\u001b[0;34m)\u001b[0m\u001b[0;34m)\u001b[0m\u001b[0;34m\u001b[0m\u001b[0;34m\u001b[0m\u001b[0m\n",
      "\u001b[0;31mFileNotFoundError\u001b[0m: [Errno 2] No such file or directory: './data/1-koda-gtfs-rt-extracted/2021-04-01/sl/VehiclePositions/2021/04/01/18/sl-vehiclepositions-2021-04-01T18-00-01Z.pb'"
     ]
    }
   ],
   "source": [
    "filename = \"./data/1-koda-gtfs-rt-extracted/\"\n",
    "\n",
    "response = open(filename, 'rb')\n",
    "feed = gtfs_realtime_pb2.FeedMessage()\n",
    "feed.ParseFromString(response.read())\n",
    "\n",
    "print(len(feed.entity))\n",
    "\n",
    "print(feed.entity[2])"
   ]
  },
  {
   "cell_type": "code",
   "execution_count": null,
   "id": "5e13a104",
   "metadata": {},
   "outputs": [],
   "source": [
    "filenames = glob(\"./data/1-koda-gtfs-rt-extracted/2021-04-01T00/sl/VehiclePositions/2021/04/01/18/*.pb\")\n",
    "\n",
    "details = []\n",
    "\n",
    "for file in tqdm(filenames): \n",
    "    response = open(filename, 'rb')\n",
    "    feed = gtfs_realtime_pb2.FeedMessage()\n",
    "    feed.ParseFromString(response.read())\n",
    "    \n",
    "    details += [\n",
    "        (e.id, feed.header.timestamp, e.vehicle.trip.trip_id, e.vehicle.vehicle.id, e.vehicle.timestamp, \n",
    "         Point(e.vehicle.position.longitude, e.vehicle.position.latitude))\n",
    "        for e in feed.entity\n",
    "    ]\n",
    "    break;"
   ]
  },
  {
   "cell_type": "code",
   "execution_count": null,
   "id": "bdee67f8",
   "metadata": {
    "scrolled": false
   },
   "outputs": [],
   "source": [
    "gdf = gpd.GeoDataFrame(details, columns=['eid', 'timestamp', 'tid', 'vid', 'ts', 'geometry'])\n",
    "gdf.set_crs(epsg=4326, inplace=True)\n",
    "gdf"
   ]
  },
  {
   "cell_type": "code",
   "execution_count": null,
   "id": "39fa0d8f",
   "metadata": {
    "scrolled": false
   },
   "outputs": [],
   "source": [
    "fig, ax = plt.subplots(figsize=(20,20))\n",
    "gdf.plot(ax=ax)\n",
    "cx.add_basemap(ax, crs=gdf.crs)"
   ]
  },
  {
   "cell_type": "code",
   "execution_count": null,
   "id": "3bc461b6",
   "metadata": {},
   "outputs": [],
   "source": []
  },
  {
   "cell_type": "code",
   "execution_count": null,
   "id": "e5800ddf",
   "metadata": {},
   "outputs": [],
   "source": []
  }
 ],
 "metadata": {
  "kernelspec": {
   "display_name": "Python 3",
   "language": "python",
   "name": "python3"
  },
  "language_info": {
   "codemirror_mode": {
    "name": "ipython",
    "version": 3
   },
   "file_extension": ".py",
   "mimetype": "text/x-python",
   "name": "python",
   "nbconvert_exporter": "python",
   "pygments_lexer": "ipython3",
   "version": "3.8.8"
  }
 },
 "nbformat": 4,
 "nbformat_minor": 5
}
